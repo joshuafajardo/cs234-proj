{
 "cells": [
  {
   "cell_type": "markdown",
   "id": "6a6b03ce-53e5-4397-bdc8-0cd7dac74198",
   "metadata": {},
   "source": [
    "Configurations\n",
    "- dataset: vaso_eps_0_1\n",
    "- annotation function: annotOpt"
   ]
  },
  {
   "cell_type": "code",
   "execution_count": 2,
   "id": "01f0175c-3e58-4a93-807a-b7ffa5a00531",
   "metadata": {},
   "outputs": [],
   "source": [
    "import matplotlib\n",
    "matplotlib.rcParams['font.sans-serif'] = ['FreeSans']\n",
    "%config InlineBackend.figure_formats = ['svg']"
   ]
  },
  {
   "cell_type": "code",
   "execution_count": 3,
   "id": "62d6125a-5935-4e5b-80ff-4891f32ec784",
   "metadata": {},
   "outputs": [],
   "source": [
    "import numpy as np\n",
    "import pandas as pd\n",
    "from tqdm import tqdm\n",
    "from collections import defaultdict\n",
    "import pickle\n",
    "import itertools\n",
    "import copy\n",
    "import random\n",
    "import matplotlib.pyplot as plt\n",
    "import seaborn as sns\n",
    "import scipy.stats\n",
    "from sklearn import metrics\n",
    "import itertools\n",
    "\n",
    "import joblib\n",
    "from joblib import Parallel, delayed"
   ]
  },
  {
   "cell_type": "code",
   "execution_count": 4,
   "id": "8c4244f8-4324-494a-ae91-284f6e674169",
   "metadata": {},
   "outputs": [],
   "source": [
    "from OPE_utils_new import (\n",
    "    format_data_tensor,\n",
    "    policy_eval_analytic_finite,\n",
    "    OPE_IS_h,\n",
    "    compute_behavior_policy_h,\n",
    ")"
   ]
  },
  {
   "cell_type": "code",
   "execution_count": 5,
   "id": "81549d03-e43f-42fa-882e-56a87265835c",
   "metadata": {},
   "outputs": [],
   "source": [
    "NSTEPS = H = 20   # max episode length in historical data # Horizon of the MDP\n",
    "G_min = -1        # the minimum possible return\n",
    "G_max =  1        # the maximum possible return\n",
    "nS, nA = 1442, 8\n",
    "\n",
    "PROB_DIAB = 0.2"
   ]
  },
  {
   "cell_type": "code",
   "execution_count": 6,
   "id": "964736ac-8bcc-45ee-820d-5964e9df807b",
   "metadata": {},
   "outputs": [],
   "source": [
    "# Ground truth MDP model\n",
    "MDP_parameters = joblib.load('../data/MDP_parameters.joblib')\n",
    "P = MDP_parameters['transition_matrix_absorbing'] # (A, S, S_next)\n",
    "R = MDP_parameters['reward_matrix_absorbing_SA'] # (S, A)\n",
    "nS, nA = R.shape\n",
    "gamma = 0.99\n",
    "\n",
    "# unif rand isd, mixture of diabetic state\n",
    "isd = joblib.load('../data/modified_prior_initial_state_absorbing.joblib')\n",
    "isd = (isd > 0).astype(float)\n",
    "isd[:720] = isd[:720] / isd[:720].sum() * (1-PROB_DIAB)\n",
    "isd[720:] = isd[720:] / isd[720:].sum() * (PROB_DIAB)"
   ]
  },
  {
   "cell_type": "code",
   "execution_count": 7,
   "id": "4287d548-043d-4f37-ae4c-ed92513f451f",
   "metadata": {},
   "outputs": [],
   "source": [
    "# Precomputed optimal policy\n",
    "π_star = joblib.load('../data/π_star.joblib')"
   ]
  },
  {
   "cell_type": "markdown",
   "id": "2eb8e706-586b-4cb9-9df6-913e8e1763fc",
   "metadata": {},
   "source": [
    "## Load data"
   ]
  },
  {
   "cell_type": "code",
   "execution_count": 8,
   "id": "eaf5b9bc-86c1-49e2-a5a8-81f87458d437",
   "metadata": {},
   "outputs": [],
   "source": [
    "input_dir = '../datagen/vaso_eps_0_1-100k/'"
   ]
  },
  {
   "cell_type": "code",
   "execution_count": 9,
   "id": "51a1bcf1-f9f1-40e4-9342-ea8b1ff587f5",
   "metadata": {},
   "outputs": [],
   "source": [
    "def load_data(fname):\n",
    "    print('Loading data', fname, '...', end='')\n",
    "    df_data = pd.read_csv('{}/{}'.format(input_dir, fname)).rename(columns={'State_idx': 'State'})#[['pt_id', 'Time', 'State', 'Action', 'Reward']]\n",
    "\n",
    "    # Assign next state\n",
    "    df_data['NextState'] = [*df_data['State'].iloc[1:].values, -1]\n",
    "    df_data.loc[df_data.groupby('pt_id')['Time'].idxmax(), 'NextState'] = -1\n",
    "    df_data.loc[(df_data['Reward'] == -1), 'NextState'] = 1440\n",
    "    df_data.loc[(df_data['Reward'] == 1), 'NextState'] = 1441\n",
    "\n",
    "    assert ((df_data['Reward'] != 0) == (df_data['Action'] == -1)).all()\n",
    "\n",
    "    print('DONE')\n",
    "    return df_data"
   ]
  },
  {
   "cell_type": "code",
   "execution_count": 10,
   "id": "5ee3d16f-24d5-4121-b5ec-2bbf06f74c73",
   "metadata": {},
   "outputs": [
    {
     "name": "stdout",
     "output_type": "stream",
     "text": [
      "Loading data 1-features.csv ...DONE\n",
      "Loading data 2-features.csv ...DONE\n"
     ]
    }
   ],
   "source": [
    "df_seed1 = load_data('1-features.csv') # tr\n",
    "df_seed2 = load_data('2-features.csv') # va"
   ]
  },
  {
   "cell_type": "markdown",
   "id": "c81658e9-5862-4670-a46a-b0978ce4bbcc",
   "metadata": {},
   "source": [
    "## Policies"
   ]
  },
  {
   "cell_type": "markdown",
   "id": "a0ecf4c7-c8f3-4528-8c20-2db62f14126f",
   "metadata": {},
   "source": [
    "### Behavior policy"
   ]
  },
  {
   "cell_type": "code",
   "execution_count": 11,
   "id": "ac551e9e-f9ed-466e-8647-7ccf01cf07a7",
   "metadata": {},
   "outputs": [],
   "source": [
    "# vaso eps=0.5, mv abx optimal\n",
    "π_beh = (np.tile(π_star.reshape((-1,2,2,2)).sum(axis=3, keepdims=True), (1,1,1,2)).reshape((-1, 8)) / 2)\n",
    "π_beh[π_star == 1] = 0.9\n",
    "π_beh[π_beh == 0.5] = 0.1"
   ]
  },
  {
   "cell_type": "code",
   "execution_count": 12,
   "id": "dadef7ec-8ecc-4c0e-9ed8-ccaa36d52413",
   "metadata": {},
   "outputs": [],
   "source": [
    "V_H_beh = policy_eval_analytic_finite(P.transpose((1,0,2)), R, π_beh, gamma, H)\n",
    "Q_H_beh = [(R + gamma * P.transpose((1,0,2)) @ V_H_beh[h]) for h in range(1,H)] + [R]"
   ]
  },
  {
   "cell_type": "code",
   "execution_count": 13,
   "id": "e3cdacbd-0a4c-4244-8823-d3f6ff1938e2",
   "metadata": {},
   "outputs": [
    {
     "data": {
      "text/plain": [
       "0.2503835479385116"
      ]
     },
     "execution_count": 13,
     "metadata": {},
     "output_type": "execute_result"
    }
   ],
   "source": [
    "J_beh = isd @ V_H_beh[0]\n",
    "J_beh"
   ]
  },
  {
   "cell_type": "code",
   "execution_count": 14,
   "id": "13d1316d-65c2-4e92-a5a0-44472aea3e10",
   "metadata": {},
   "outputs": [],
   "source": [
    "# Check recursive relationships\n",
    "assert len(Q_H_beh) == H\n",
    "assert len(V_H_beh) == H\n",
    "assert np.all(Q_H_beh[-1] == R)\n",
    "assert np.all(np.sum(π_beh * Q_H_beh[-1], axis=1) == V_H_beh[-1])\n",
    "assert np.all(R + gamma * P.transpose((1,0,2)) @ V_H_beh[-1] == Q_H_beh[-2])"
   ]
  },
  {
   "cell_type": "markdown",
   "id": "f76f21ef-f8b2-429e-8459-398f07e1ccc8",
   "metadata": {},
   "source": [
    "### Evaluation policy"
   ]
  },
  {
   "cell_type": "code",
   "execution_count": 15,
   "id": "9bb8d86e-964d-4c07-9305-88a2f83018c4",
   "metadata": {},
   "outputs": [],
   "source": [
    "π_eval = π_star"
   ]
  },
  {
   "cell_type": "code",
   "execution_count": 16,
   "id": "08b7f857-e65e-44ab-8bfc-d4cd84230cf2",
   "metadata": {},
   "outputs": [],
   "source": [
    "V_H_eval = policy_eval_analytic_finite(P.transpose((1,0,2)), R, π_eval, gamma, H)\n",
    "Q_H_eval = [(R + gamma * P.transpose((1,0,2)) @ V_H_eval[h]) for h in range(1,H)] + [R]"
   ]
  },
  {
   "cell_type": "code",
   "execution_count": 17,
   "id": "fdc062d9-d2e6-449d-83b4-2d146bd2a381",
   "metadata": {},
   "outputs": [
    {
     "data": {
      "text/plain": [
       "0.40877179296760235"
      ]
     },
     "execution_count": 17,
     "metadata": {},
     "output_type": "execute_result"
    }
   ],
   "source": [
    "J_eval = isd @ V_H_eval[0]\n",
    "J_eval"
   ]
  },
  {
   "cell_type": "code",
   "execution_count": 18,
   "id": "72a16631-b513-4bb6-8e57-f91d47752b04",
   "metadata": {},
   "outputs": [],
   "source": [
    "# Check recursive relationships\n",
    "assert len(Q_H_eval) == H\n",
    "assert len(V_H_eval) == H\n",
    "assert np.all(Q_H_eval[-1] == R)\n",
    "assert np.all(np.sum(π_eval * Q_H_eval[-1], axis=1) == V_H_eval[-1])\n",
    "assert np.all(R + gamma * P.transpose((1,0,2)) @ V_H_eval[-1] == Q_H_eval[-2])"
   ]
  },
  {
   "cell_type": "markdown",
   "id": "c5648b28-b673-430e-87b0-363a0df84eb3",
   "metadata": {
    "tags": []
   },
   "source": [
    "## Pre-populate counterfactual annotations for offline dataset"
   ]
  },
  {
   "cell_type": "markdown",
   "id": "de81fdc5-bb50-4636-b56b-f89f3a2f6c14",
   "metadata": {},
   "source": [
    "### version 1: annotate counterfactuals only for initial states"
   ]
  },
  {
   "cell_type": "code",
   "execution_count": 19,
   "id": "4fe8811a-3107-44ae-bb77-bee3c414cc61",
   "metadata": {},
   "outputs": [],
   "source": [
    "df_va = df_seed2[['pt_id', 'Time', 'State', 'Action', 'Reward', 'NextState']].copy()\n",
    "\n",
    "# assign alternative action for vaso\n",
    "df_va['Action:Vaso'] = df_va['Action'] % 2\n",
    "df_va.loc[df_va['Action'] == -1, 'Action:Vaso'] = -1\n",
    "df_va['Action_Alt'] = df_va['Action'] + 1 - 2*df_va['Action:Vaso']\n",
    "df_va.loc[df_va['Action'] == -1, 'Action_Alt'] = -1"
   ]
  },
  {
   "cell_type": "code",
   "execution_count": 20,
   "id": "55665ad7-e617-4b30-bfc7-8f7cee20048f",
   "metadata": {},
   "outputs": [],
   "source": [
    "# for each original traj, create a length 1 pseudo-traj by flipping the action from starting state\n",
    "def _func_v1(df_i):\n",
    "    df_i_new = []\n",
    "    for t in range(len(df_i) - 1):\n",
    "        if t > 0: break\n",
    "        step, S, A_alt = df_i.iloc[t]['Time'], df_i.iloc[t]['State'], df_i.iloc[t]['Action_Alt']\n",
    "        df_i_t = df_i.iloc[:t].loc[:, ['Time', 'State', 'Action', 'Reward', 'NextState']].append(\n",
    "            pd.Series({\n",
    "                'Time': step,\n",
    "                'State': S,\n",
    "                'Action': A_alt,\n",
    "                'Reward': Q_H_eval[t][S, A_alt],\n",
    "                'NextState': 1442, # truncation indicator\n",
    "            }), ignore_index=True,\n",
    "        )\n",
    "        df_i_t['pt_id'] = df_i['pt_id'].iloc[0] + (t+1)*0.01\n",
    "        df_i_t = df_i_t[['pt_id', 'Time', 'State', 'Action', 'Reward', 'NextState']]\n",
    "        df_i_new.append(df_i_t)\n",
    "    return df_i_new"
   ]
  },
  {
   "cell_type": "code",
   "execution_count": 21,
   "id": "f1f945bb-5dc3-44b6-af82-26b73a0189dc",
   "metadata": {},
   "outputs": [
    {
     "name": "stderr",
     "output_type": "stream",
     "text": [
      "100%|██████████| 100000/100000 [13:01<00:00, 128.00it/s]\n"
     ]
    }
   ],
   "source": [
    "df_va_new1 = Parallel(n_jobs=50)(delayed(_func_v1)(df_i) for i, df_i in tqdm(df_va.groupby('pt_id')))\n",
    "df_va_new1 = pd.concat(itertools.chain.from_iterable(df_va_new1)).reset_index(drop=True)\n",
    "df_va_new1[['Time', 'State', 'Action', 'NextState']] = df_va_new1[['Time', 'State', 'Action', 'NextState']].astype(int)"
   ]
  },
  {
   "cell_type": "code",
   "execution_count": 22,
   "id": "50c972fa-e297-4f3d-9d13-438f06153b25",
   "metadata": {},
   "outputs": [],
   "source": [
    "df_va_all1 = pd.concat([\n",
    "    df_va[['pt_id', 'Time', 'State', 'Action', 'Reward', 'NextState']], \n",
    "    df_va_new1]).sort_values(by=['pt_id', 'Time']).reset_index(drop=True)"
   ]
  },
  {
   "cell_type": "code",
   "execution_count": 23,
   "id": "0485ac08-cc67-43cd-afba-636bdb830588",
   "metadata": {},
   "outputs": [
    {
     "data": {
      "text/html": [
       "<div>\n",
       "<style scoped>\n",
       "    .dataframe tbody tr th:only-of-type {\n",
       "        vertical-align: middle;\n",
       "    }\n",
       "\n",
       "    .dataframe tbody tr th {\n",
       "        vertical-align: top;\n",
       "    }\n",
       "\n",
       "    .dataframe thead th {\n",
       "        text-align: right;\n",
       "    }\n",
       "</style>\n",
       "<table border=\"1\" class=\"dataframe\">\n",
       "  <thead>\n",
       "    <tr style=\"text-align: right;\">\n",
       "      <th></th>\n",
       "      <th>pt_id</th>\n",
       "      <th>Time</th>\n",
       "      <th>State</th>\n",
       "      <th>Action</th>\n",
       "      <th>Reward</th>\n",
       "      <th>NextState</th>\n",
       "    </tr>\n",
       "  </thead>\n",
       "  <tbody>\n",
       "    <tr>\n",
       "      <th>0</th>\n",
       "      <td>200000.00</td>\n",
       "      <td>0</td>\n",
       "      <td>339</td>\n",
       "      <td>7</td>\n",
       "      <td>0.000000</td>\n",
       "      <td>463</td>\n",
       "    </tr>\n",
       "    <tr>\n",
       "      <th>1</th>\n",
       "      <td>200000.00</td>\n",
       "      <td>1</td>\n",
       "      <td>463</td>\n",
       "      <td>6</td>\n",
       "      <td>0.000000</td>\n",
       "      <td>381</td>\n",
       "    </tr>\n",
       "    <tr>\n",
       "      <th>2</th>\n",
       "      <td>200000.00</td>\n",
       "      <td>2</td>\n",
       "      <td>381</td>\n",
       "      <td>0</td>\n",
       "      <td>0.000000</td>\n",
       "      <td>376</td>\n",
       "    </tr>\n",
       "    <tr>\n",
       "      <th>3</th>\n",
       "      <td>200000.00</td>\n",
       "      <td>3</td>\n",
       "      <td>376</td>\n",
       "      <td>-1</td>\n",
       "      <td>1.000000</td>\n",
       "      <td>1441</td>\n",
       "    </tr>\n",
       "    <tr>\n",
       "      <th>4</th>\n",
       "      <td>200000.01</td>\n",
       "      <td>0</td>\n",
       "      <td>339</td>\n",
       "      <td>6</td>\n",
       "      <td>0.678555</td>\n",
       "      <td>1442</td>\n",
       "    </tr>\n",
       "    <tr>\n",
       "      <th>...</th>\n",
       "      <td>...</td>\n",
       "      <td>...</td>\n",
       "      <td>...</td>\n",
       "      <td>...</td>\n",
       "      <td>...</td>\n",
       "      <td>...</td>\n",
       "    </tr>\n",
       "    <tr>\n",
       "      <th>1475561</th>\n",
       "      <td>299999.00</td>\n",
       "      <td>16</td>\n",
       "      <td>365</td>\n",
       "      <td>6</td>\n",
       "      <td>0.000000</td>\n",
       "      <td>365</td>\n",
       "    </tr>\n",
       "    <tr>\n",
       "      <th>1475562</th>\n",
       "      <td>299999.00</td>\n",
       "      <td>17</td>\n",
       "      <td>365</td>\n",
       "      <td>6</td>\n",
       "      <td>0.000000</td>\n",
       "      <td>365</td>\n",
       "    </tr>\n",
       "    <tr>\n",
       "      <th>1475563</th>\n",
       "      <td>299999.00</td>\n",
       "      <td>18</td>\n",
       "      <td>365</td>\n",
       "      <td>6</td>\n",
       "      <td>0.000000</td>\n",
       "      <td>365</td>\n",
       "    </tr>\n",
       "    <tr>\n",
       "      <th>1475564</th>\n",
       "      <td>299999.00</td>\n",
       "      <td>19</td>\n",
       "      <td>365</td>\n",
       "      <td>6</td>\n",
       "      <td>0.000000</td>\n",
       "      <td>-1</td>\n",
       "    </tr>\n",
       "    <tr>\n",
       "      <th>1475565</th>\n",
       "      <td>299999.01</td>\n",
       "      <td>0</td>\n",
       "      <td>286</td>\n",
       "      <td>6</td>\n",
       "      <td>0.241258</td>\n",
       "      <td>1442</td>\n",
       "    </tr>\n",
       "  </tbody>\n",
       "</table>\n",
       "<p>1475566 rows × 6 columns</p>\n",
       "</div>"
      ],
      "text/plain": [
       "             pt_id  Time  State  Action    Reward  NextState\n",
       "0        200000.00     0    339       7  0.000000        463\n",
       "1        200000.00     1    463       6  0.000000        381\n",
       "2        200000.00     2    381       0  0.000000        376\n",
       "3        200000.00     3    376      -1  1.000000       1441\n",
       "4        200000.01     0    339       6  0.678555       1442\n",
       "...            ...   ...    ...     ...       ...        ...\n",
       "1475561  299999.00    16    365       6  0.000000        365\n",
       "1475562  299999.00    17    365       6  0.000000        365\n",
       "1475563  299999.00    18    365       6  0.000000        365\n",
       "1475564  299999.00    19    365       6  0.000000         -1\n",
       "1475565  299999.01     0    286       6  0.241258       1442\n",
       "\n",
       "[1475566 rows x 6 columns]"
      ]
     },
     "execution_count": 23,
     "metadata": {},
     "output_type": "execute_result"
    }
   ],
   "source": [
    "df_va_all1"
   ]
  },
  {
   "cell_type": "code",
   "execution_count": 24,
   "id": "a4bcde0b-d3e2-43da-89eb-36ccd4b3c3de",
   "metadata": {},
   "outputs": [],
   "source": [
    "df_va_all1.to_pickle('results/vaso_eps_0_1-evalOpt_df_seed2_aug_init.pkl')"
   ]
  },
  {
   "cell_type": "markdown",
   "id": "a001b005-0f47-4675-8723-af2c3ea9fa27",
   "metadata": {},
   "source": [
    "### version 2: annotate counterfactuals for all time steps"
   ]
  },
  {
   "cell_type": "code",
   "execution_count": 25,
   "id": "41600dc9-feb6-4e92-9ff8-31c0744056ab",
   "metadata": {},
   "outputs": [],
   "source": [
    "df_va = df_seed2[['pt_id', 'Time', 'State', 'Action', 'Reward', 'NextState']].copy()\n",
    "\n",
    "# assign alternative action for vaso\n",
    "df_va['Action:Vaso'] = df_va['Action'] % 2\n",
    "df_va.loc[df_va['Action'] == -1, 'Action:Vaso'] = -1\n",
    "df_va['Action_Alt'] = df_va['Action'] + 1 - 2*df_va['Action:Vaso']\n",
    "df_va.loc[df_va['Action'] == -1, 'Action_Alt'] = -1"
   ]
  },
  {
   "cell_type": "code",
   "execution_count": 26,
   "id": "19bf115c-e92e-46e8-9c12-d72d5bb53d8f",
   "metadata": {},
   "outputs": [],
   "source": [
    "def _func_v2(df_i):\n",
    "    df_i_new = []\n",
    "    for t in range(len(df_i) - 1):\n",
    "        step, S, A_alt = df_i.iloc[t]['Time'], df_i.iloc[t]['State'], df_i.iloc[t]['Action_Alt']\n",
    "        df_i_t = df_i.iloc[:t].loc[:, ['Time', 'State', 'Action', 'Reward', 'NextState']].append(\n",
    "            pd.Series({\n",
    "                'Time': step,\n",
    "                'State': S,\n",
    "                'Action': A_alt,\n",
    "                'Reward': Q_H_eval[t][S, A_alt],\n",
    "                'NextState': 1442, # truncation indicator\n",
    "            }), ignore_index=True,\n",
    "        )\n",
    "        df_i_t['pt_id'] = df_i['pt_id'].iloc[0] + (t+1)*0.01\n",
    "        df_i_t = df_i_t[['pt_id', 'Time', 'State', 'Action', 'Reward', 'NextState']]\n",
    "        df_i_new.append(df_i_t)\n",
    "    return df_i_new"
   ]
  },
  {
   "cell_type": "code",
   "execution_count": 27,
   "id": "e0d3abfe-d236-446c-b43b-f8a71d7f4e77",
   "metadata": {},
   "outputs": [
    {
     "name": "stderr",
     "output_type": "stream",
     "text": [
      "100%|██████████| 100000/100000 [29:24<00:00, 56.69it/s]\n"
     ]
    }
   ],
   "source": [
    "df_va_new2 = Parallel(n_jobs=100)(delayed(_func_v2)(df_i) for i, df_i in tqdm(df_va.groupby('pt_id')))\n",
    "df_va_new2 = pd.concat(itertools.chain.from_iterable(df_va_new2)).reset_index(drop=True)\n",
    "df_va_new2[['Time', 'State', 'Action', 'NextState']] = df_va_new2[['Time', 'State', 'Action', 'NextState']].astype(int)"
   ]
  },
  {
   "cell_type": "code",
   "execution_count": 28,
   "id": "2ec67306-3994-40aa-bba5-296b4ed4b410",
   "metadata": {},
   "outputs": [],
   "source": [
    "df_va_all2 = pd.concat([\n",
    "    df_va[['pt_id', 'Time', 'State', 'Action', 'Reward', 'NextState']], \n",
    "    df_va_new2]).sort_values(by=['pt_id', 'Time']).reset_index(drop=True)"
   ]
  },
  {
   "cell_type": "code",
   "execution_count": null,
   "id": "93f14a15",
   "metadata": {},
   "outputs": [
    {
     "data": {
      "text/html": [
       "<div>\n",
       "<style scoped>\n",
       "    .dataframe tbody tr th:only-of-type {\n",
       "        vertical-align: middle;\n",
       "    }\n",
       "\n",
       "    .dataframe tbody tr th {\n",
       "        vertical-align: top;\n",
       "    }\n",
       "\n",
       "    .dataframe thead th {\n",
       "        text-align: right;\n",
       "    }\n",
       "</style>\n",
       "<table border=\"1\" class=\"dataframe\">\n",
       "  <thead>\n",
       "    <tr style=\"text-align: right;\">\n",
       "      <th></th>\n",
       "      <th>pt_id</th>\n",
       "      <th>Time</th>\n",
       "      <th>State</th>\n",
       "      <th>Action</th>\n",
       "      <th>Reward</th>\n",
       "      <th>NextState</th>\n",
       "    </tr>\n",
       "  </thead>\n",
       "  <tbody>\n",
       "    <tr>\n",
       "      <th>0</th>\n",
       "      <td>200000.00</td>\n",
       "      <td>0</td>\n",
       "      <td>339</td>\n",
       "      <td>7</td>\n",
       "      <td>0.000000</td>\n",
       "      <td>463</td>\n",
       "    </tr>\n",
       "    <tr>\n",
       "      <th>1</th>\n",
       "      <td>200000.00</td>\n",
       "      <td>1</td>\n",
       "      <td>463</td>\n",
       "      <td>6</td>\n",
       "      <td>0.000000</td>\n",
       "      <td>381</td>\n",
       "    </tr>\n",
       "    <tr>\n",
       "      <th>2</th>\n",
       "      <td>200000.00</td>\n",
       "      <td>2</td>\n",
       "      <td>381</td>\n",
       "      <td>0</td>\n",
       "      <td>0.000000</td>\n",
       "      <td>376</td>\n",
       "    </tr>\n",
       "    <tr>\n",
       "      <th>3</th>\n",
       "      <td>200000.00</td>\n",
       "      <td>3</td>\n",
       "      <td>376</td>\n",
       "      <td>-1</td>\n",
       "      <td>1.000000</td>\n",
       "      <td>1441</td>\n",
       "    </tr>\n",
       "    <tr>\n",
       "      <th>4</th>\n",
       "      <td>200000.01</td>\n",
       "      <td>0</td>\n",
       "      <td>339</td>\n",
       "      <td>6</td>\n",
       "      <td>0.678555</td>\n",
       "      <td>1442</td>\n",
       "    </tr>\n",
       "    <tr>\n",
       "      <th>...</th>\n",
       "      <td>...</td>\n",
       "      <td>...</td>\n",
       "      <td>...</td>\n",
       "      <td>...</td>\n",
       "      <td>...</td>\n",
       "      <td>...</td>\n",
       "    </tr>\n",
       "    <tr>\n",
       "      <th>12463512</th>\n",
       "      <td>299999.19</td>\n",
       "      <td>14</td>\n",
       "      <td>365</td>\n",
       "      <td>6</td>\n",
       "      <td>0.000000</td>\n",
       "      <td>365</td>\n",
       "    </tr>\n",
       "    <tr>\n",
       "      <th>12463513</th>\n",
       "      <td>299999.19</td>\n",
       "      <td>15</td>\n",
       "      <td>365</td>\n",
       "      <td>6</td>\n",
       "      <td>0.000000</td>\n",
       "      <td>365</td>\n",
       "    </tr>\n",
       "    <tr>\n",
       "      <th>12463514</th>\n",
       "      <td>299999.19</td>\n",
       "      <td>16</td>\n",
       "      <td>365</td>\n",
       "      <td>6</td>\n",
       "      <td>0.000000</td>\n",
       "      <td>365</td>\n",
       "    </tr>\n",
       "    <tr>\n",
       "      <th>12463515</th>\n",
       "      <td>299999.19</td>\n",
       "      <td>17</td>\n",
       "      <td>365</td>\n",
       "      <td>6</td>\n",
       "      <td>0.000000</td>\n",
       "      <td>365</td>\n",
       "    </tr>\n",
       "    <tr>\n",
       "      <th>12463516</th>\n",
       "      <td>299999.19</td>\n",
       "      <td>18</td>\n",
       "      <td>365</td>\n",
       "      <td>7</td>\n",
       "      <td>0.000000</td>\n",
       "      <td>1442</td>\n",
       "    </tr>\n",
       "  </tbody>\n",
       "</table>\n",
       "<p>12463517 rows × 6 columns</p>\n",
       "</div>"
      ],
      "text/plain": [
       "              pt_id  Time  State  Action    Reward  NextState\n",
       "0         200000.00     0    339       7  0.000000        463\n",
       "1         200000.00     1    463       6  0.000000        381\n",
       "2         200000.00     2    381       0  0.000000        376\n",
       "3         200000.00     3    376      -1  1.000000       1441\n",
       "4         200000.01     0    339       6  0.678555       1442\n",
       "...             ...   ...    ...     ...       ...        ...\n",
       "12463512  299999.19    14    365       6  0.000000        365\n",
       "12463513  299999.19    15    365       6  0.000000        365\n",
       "12463514  299999.19    16    365       6  0.000000        365\n",
       "12463515  299999.19    17    365       6  0.000000        365\n",
       "12463516  299999.19    18    365       7  0.000000       1442\n",
       "\n",
       "[12463517 rows x 6 columns]"
      ]
     },
     "metadata": {},
     "output_type": "display_data"
    }
   ],
   "source": [
    "df_va_all2"
   ]
  },
  {
   "cell_type": "code",
   "execution_count": 29,
   "id": "f34774c1-f442-4a64-8c2e-6ec0ee511a74",
   "metadata": {},
   "outputs": [],
   "source": [
    "df_va_all2.to_pickle('results/vaso_eps_0_1-evalOpt_df_seed2_aug_step.pkl')"
   ]
  },
  {
   "cell_type": "code",
   "execution_count": null,
   "id": "9b9d4ea0-3a83-4aa4-b6a5-f0d3c3522784",
   "metadata": {},
   "outputs": [],
   "source": []
  }
 ],
 "metadata": {
  "kernelspec": {
   "display_name": "RL_venv",
   "language": "python",
   "name": "rl_venv"
  },
  "language_info": {
   "codemirror_mode": {
    "name": "ipython",
    "version": 3
   },
   "file_extension": ".py",
   "mimetype": "text/x-python",
   "name": "python",
   "nbconvert_exporter": "python",
   "pygments_lexer": "ipython3",
   "version": "3.8.8"
  }
 },
 "nbformat": 4,
 "nbformat_minor": 5
}
