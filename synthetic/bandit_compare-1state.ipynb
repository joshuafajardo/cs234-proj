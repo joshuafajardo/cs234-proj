{
 "cells": [
  {
   "cell_type": "code",
   "execution_count": 1,
   "id": "a6eac7c9-b2bb-4995-bf22-a9d66093f9d6",
   "metadata": {},
   "outputs": [],
   "source": [
    "import numpy as np\n",
    "import pandas as pd\n",
    "from IPython.display import display\n",
    "import matplotlib.pyplot as plt\n",
    "%config InlineBackend.figure_formats = ['svg']\n",
    "import matplotlib\n",
    "matplotlib.rcParams['text.usetex'] = True\n",
    "matplotlib.rcParams['font.sans-serif'] = ['FreeSans']\n",
    "import seaborn as sns\n",
    "import itertools\n",
    "from tqdm import tqdm\n",
    "import joblib"
   ]
  },
  {
   "cell_type": "code",
   "execution_count": 2,
   "id": "16192b2c-09d3-49b7-98d1-edc8c5bbbd22",
   "metadata": {},
   "outputs": [],
   "source": [
    "d0 = np.array([1.])"
   ]
  },
  {
   "cell_type": "code",
   "execution_count": 3,
   "id": "3b17c719-1120-434f-9785-e5d3583909e4",
   "metadata": {},
   "outputs": [],
   "source": [
    "Rs = [\n",
    "    np.array([[1., 2.],]),\n",
    "    np.array([[-1., 1.],]),\n",
    "    np.array([[-1., -2.],]),\n",
    "]\n",
    "sigmas = [\n",
    "    np.array([[0.5, 0.5],]),\n",
    "    np.array([[0.5, 0.5],]),\n",
    "    np.array([[0.5, 0.5],]),\n",
    "]"
   ]
  },
  {
   "cell_type": "code",
   "execution_count": 4,
   "id": "a2617940-a7a0-4de0-b96c-0c4d87b4365c",
   "metadata": {},
   "outputs": [],
   "source": [
    "πs = [\n",
    "    np.array([[1., 0.],]),\n",
    "    np.array([[0., 1.],]),\n",
    "    np.array([[0.5, 0.5],]),\n",
    "    np.array([[0.1, 0.9],]),\n",
    "    np.array([[0.8, 0.2],]),\n",
    "]"
   ]
  },
  {
   "cell_type": "code",
   "execution_count": 5,
   "id": "3b57307b-c5c4-4b26-be34-5e8d13a2ea20",
   "metadata": {},
   "outputs": [],
   "source": [
    "use_πD = False"
   ]
  },
  {
   "cell_type": "code",
   "execution_count": 6,
   "id": "815dabf9-cdff-4d7a-bac4-889d6b046442",
   "metadata": {},
   "outputs": [],
   "source": [
    "N = 1\n",
    "runs = 1000"
   ]
  },
  {
   "cell_type": "code",
   "execution_count": 7,
   "id": "a82feb16-b247-409b-b556-21e1bab36602",
   "metadata": {},
   "outputs": [],
   "source": [
    "def single_run():\n",
    "    np.random.seed(42)\n",
    "\n",
    "    # True value of π_e\n",
    "    Js = []\n",
    "    for seed in range(runs):\n",
    "        rng = np.random.default_rng(seed=10+seed)\n",
    "        x = rng.choice(1, size=N, p=d0)\n",
    "        a = np.array([rng.choice(2, p=π_e[xi]) for xi in x])\n",
    "        r = np.array([rng.normal(R[xi,ai], sigma[xi,ai]) for xi,ai in zip(x,a)])\n",
    "        J = np.sum(r) / N\n",
    "        Js.append(J)\n",
    "\n",
    "    # Standard IS\n",
    "    Gs = []\n",
    "    OISs = []\n",
    "    WISs = []\n",
    "    for seed in range(runs):\n",
    "        rng = np.random.default_rng(seed=10+seed)\n",
    "        x = rng.choice(1, size=N, p=d0)\n",
    "        a = np.array([rng.choice(2, p=π_b[xi]) for xi in x])\n",
    "        r = np.array([rng.normal(R[xi,ai], sigma[xi,ai]) for xi,ai in zip(x,a)])\n",
    "        G = np.sum(r) / N\n",
    "        Gs.append(G)\n",
    "\n",
    "        if use_πD:\n",
    "            π_b_ = np.array([\n",
    "                [(np.sum((x==0)&(a==0)))/np.sum(x==0), \n",
    "                 (np.sum((x==0)&(a==1)))/np.sum(x==0)],\n",
    "            ])\n",
    "        else:\n",
    "            π_b_ = π_b\n",
    "\n",
    "        rho = π_e[x,a] / π_b_[x,a]\n",
    "        OISs.append(np.sum(rho * r) / N)\n",
    "        WISs.append(np.sum(rho * r) / np.sum(rho))\n",
    "\n",
    "\n",
    "    # Collect data using π_b - combining counterfactuals with factuals\n",
    "    FC_OISs_w = []\n",
    "    FC_WISs_w = []\n",
    "    for seed in range(runs):\n",
    "        rng = np.random.default_rng(seed=10+seed)\n",
    "        rng_c = np.random.default_rng(seed=100000+seed)\n",
    "        x = rng.choice(1, size=N, p=d0)\n",
    "        a = np.array([rng.choice(2, p=π_b[xi]) for xi in x])\n",
    "        r = np.array([rng.normal(R[xi,ai], sigma[xi,ai]) for xi,ai in zip(x,a)])\n",
    "        rho = π_e[x,a] / π_b[x,a]\n",
    "\n",
    "        # counterfactual flag\n",
    "        c = np.array([rng_c.choice(2, p=[1-Pc[xi,ai], Pc[xi,ai]]) for xi,ai in zip(x,a)])\n",
    "\n",
    "        # counterfactual reward\n",
    "        rc = np.array([rng_c.normal(R[xi,1-ai], sigma[xi,1-ai]) for xi,ai in zip(x,a)])\n",
    "        rc[c==0] = np.nan\n",
    "\n",
    "        # trajectory-wise weight\n",
    "        w = np.ones(N)\n",
    "        w[c==1] = ww[x[c==1], a[c==1], a[c==1]]\n",
    "        wc = np.zeros(N)\n",
    "        wc[c==1] = ww[x[c==1], a[c==1], 1-a[c==1]]\n",
    "\n",
    "        if use_πD:\n",
    "            # augmented behavior policy\n",
    "            π_b_ = np.array([\n",
    "                [(np.sum(w*((x==0)&(a==0)))+np.sum(wc*((x==0)&(a==1)&(c==1))))/(np.sum(w*(x==0))+np.sum(wc*((x==0)&(c==1)))), \n",
    "                 (np.sum(w*((x==0)&(a==1)))+np.sum(wc*((x==0)&(a==0)&(c==1))))/(np.sum(w*(x==0))+np.sum(wc*((x==0)&(c==1))))],\n",
    "            ])\n",
    "        else:\n",
    "            # augmented behavior policy\n",
    "            π_b_ = np.array([\n",
    "                [π_b[0,0]*ww[0,0,0]+π_b[0,1]*ww[0,1,0], π_b[0,0]*ww[0,0,1]+π_b[0,1]*ww[0,1,1]],\n",
    "            ])\n",
    "            π_b_ = π_b_ / π_b_.sum(axis=1, keepdims=True)\n",
    "\n",
    "        FC_OISs_w.append(\n",
    "            (np.sum(w* π_e[x,a] / π_b_[x,a] * r) + np.nansum(wc* π_e[x,1-a] / π_b_[x,1-a] * rc)) / (N)\n",
    "        )\n",
    "        FC_WISs_w.append(\n",
    "            (np.sum(w* π_e[x,a] / π_b_[x,a] * r) + np.nansum(wc* π_e[x,1-a] / π_b_[x,1-a] * rc)) / (np.sum(w* π_e[x,a] / π_b_[x,a]) + np.sum((wc* π_e[x,1-a] / π_b_[x,1-a])[c==1])),\n",
    "        )\n",
    "\n",
    "    df_bias_var = []\n",
    "    for name, values in [\n",
    "        ('$\\hat{v}(\\pi_e)$', Js),\n",
    "        ('$\\hat{v}(\\pi_b)$', Gs),\n",
    "        ('OIS', OISs),\n",
    "        ('WIS', WISs),\n",
    "        ('C-OIS', FC_OISs_w),\n",
    "        ('C-WIS', FC_WISs_w),\n",
    "    ]:\n",
    "        df_bias_var.append([name, \n",
    "                            np.mean(values), \n",
    "                            np.mean(values - d0@np.sum(π_e*R, axis=1)), \n",
    "                            np.sqrt(np.var(values)), \n",
    "                            np.sqrt(np.mean(np.square(values - d0@np.sum(π_e*R, axis=1))))])\n",
    "    return pd.DataFrame(df_bias_var, columns=['Approach', 'Mean', 'Bias', 'Std', 'RMSE'])"
   ]
  },
  {
   "cell_type": "markdown",
   "id": "3fdea8d1-8479-4592-b2ae-4a65c032daf5",
   "metadata": {},
   "source": [
    "# Ideal counterfactual annotations, equal weights"
   ]
  },
  {
   "cell_type": "code",
   "execution_count": 8,
   "id": "0ee15c3b-0180-447d-b9ac-29d91b1e8c2a",
   "metadata": {},
   "outputs": [],
   "source": [
    "# Counterfactual-augmented IS\n",
    "## probability of getting a counterfactual annotation\n",
    "Pc = np.array([\n",
    "    [1., 1.],\n",
    "])\n",
    "## Weights assigned to factual and counterfactuals\n",
    "ww = np.array([[\n",
    "    [0.5, 0.5],\n",
    "    [0.5, 0.5],\n",
    "]])"
   ]
  },
  {
   "cell_type": "markdown",
   "id": "72d31031-7e17-4dfc-b762-7d8d36429480",
   "metadata": {},
   "source": [
    "## Rs[0] setting"
   ]
  },
  {
   "cell_type": "code",
   "execution_count": 9,
   "id": "b03a8eda-aadd-4387-89e6-09e4d58d9e8f",
   "metadata": {},
   "outputs": [],
   "source": [
    "R, sigma = Rs[0], sigmas[0]"
   ]
  },
  {
   "cell_type": "code",
   "execution_count": 10,
   "id": "e1d34e0a-5206-4e5d-ae9c-f56886346f72",
   "metadata": {},
   "outputs": [
    {
     "name": "stderr",
     "output_type": "stream",
     "text": [
      "<ipython-input-7-04e40100a22a>:36: RuntimeWarning: invalid value encountered in double_scalars\n",
      "  WISs.append(np.sum(rho * r) / np.sum(rho))\n"
     ]
    }
   ],
   "source": [
    "df_out_all_0 = []\n",
    "for π_b in πs:\n",
    "    for π_e in πs:\n",
    "        df_out = single_run()\n",
    "        df_out_all_0.append(df_out)"
   ]
  },
  {
   "cell_type": "code",
   "execution_count": 11,
   "id": "04e99347-6451-4aa6-b7df-407f0907bf37",
   "metadata": {},
   "outputs": [
    {
     "data": {
      "text/html": [
       "<style  type=\"text/css\" >\n",
       "#T_51cb1_row0_col0,#T_51cb1_row0_col1,#T_51cb1_row0_col2,#T_51cb1_row0_col3,#T_51cb1_row0_col4,#T_51cb1_row1_col0,#T_51cb1_row1_col1,#T_51cb1_row1_col2,#T_51cb1_row1_col3,#T_51cb1_row1_col4,#T_51cb1_row2_col0,#T_51cb1_row2_col1,#T_51cb1_row2_col2,#T_51cb1_row2_col3,#T_51cb1_row2_col4,#T_51cb1_row3_col0,#T_51cb1_row3_col1,#T_51cb1_row3_col2,#T_51cb1_row3_col3,#T_51cb1_row3_col4,#T_51cb1_row4_col0,#T_51cb1_row4_col1,#T_51cb1_row4_col2,#T_51cb1_row4_col3,#T_51cb1_row4_col4{\n",
       "            white-space:  pre-wrap;\n",
       "        }</style><table id=\"T_51cb1_\" ><thead>    <tr>        <th class=\"index_name level0\" >π_e</th>        <th class=\"col_heading level0 col0\" >[1. 0.]</th>        <th class=\"col_heading level0 col1\" >[0. 1.]</th>        <th class=\"col_heading level0 col2\" >[0.5 0.5]</th>        <th class=\"col_heading level0 col3\" >[0.1 0.9]</th>        <th class=\"col_heading level0 col4\" >[0.8 0.2]</th>    </tr>    <tr>        <th class=\"index_name level0\" >π_b</th>        <th class=\"blank\" ></th>        <th class=\"blank\" ></th>        <th class=\"blank\" ></th>        <th class=\"blank\" ></th>        <th class=\"blank\" ></th>    </tr></thead><tbody>\n",
       "                <tr>\n",
       "                        <th id=\"T_51cb1_level0_row0\" class=\"row_heading level0 row0\" >[1. 0.]</th>\n",
       "                        <td id=\"T_51cb1_row0_col0\" class=\"data row0 col0\" >[0.03 0.5  0.5 ]\n",
       " [0.03 0.5  0.5 ]</td>\n",
       "                        <td id=\"T_51cb1_row0_col1\" class=\"data row0 col1\" >[-2.    0.    2.  ]\n",
       " [ 0.02  0.47  0.47]</td>\n",
       "                        <td id=\"T_51cb1_row0_col2\" class=\"data row0 col2\" >[-0.98  0.25  1.01]\n",
       " [ 0.03  0.34  0.35]</td>\n",
       "                        <td id=\"T_51cb1_row0_col3\" class=\"data row0 col3\" >[-1.8   0.05  1.8 ]\n",
       " [ 0.02  0.43  0.43]</td>\n",
       "                        <td id=\"T_51cb1_row0_col4\" class=\"data row0 col4\" >[-0.37  0.4   0.55]\n",
       " [ 0.03  0.41  0.41]</td>\n",
       "            </tr>\n",
       "            <tr>\n",
       "                        <th id=\"T_51cb1_level0_row1\" class=\"row_heading level0 row1\" >[0. 1.]</th>\n",
       "                        <td id=\"T_51cb1_row1_col0\" class=\"data row1 col0\" >[-1.    0.    1.  ]\n",
       " [ 0.02  0.47  0.47]</td>\n",
       "                        <td id=\"T_51cb1_row1_col1\" class=\"data row1 col1\" >[0.03 0.5  0.5 ]\n",
       " [0.03 0.5  0.5 ]</td>\n",
       "                        <td id=\"T_51cb1_row1_col2\" class=\"data row1 col2\" >[-0.48  0.25  0.54]\n",
       " [ 0.03  0.34  0.35]</td>\n",
       "                        <td id=\"T_51cb1_row1_col3\" class=\"data row1 col3\" >[-0.07  0.45  0.45]\n",
       " [ 0.03  0.45  0.45]</td>\n",
       "                        <td id=\"T_51cb1_row1_col4\" class=\"data row1 col4\" >[-0.79  0.1   0.8 ]\n",
       " [ 0.02  0.39  0.39]</td>\n",
       "            </tr>\n",
       "            <tr>\n",
       "                        <th id=\"T_51cb1_level0_row2\" class=\"row_heading level0 row2\" >[0.5 0.5]</th>\n",
       "                        <td id=\"T_51cb1_row2_col0\" class=\"data row2 col0\" >[0.01 1.23 1.23]\n",
       " [0.03 0.47 0.47]</td>\n",
       "                        <td id=\"T_51cb1_row2_col1\" class=\"data row2 col1\" >[0.09 2.17 2.17]\n",
       " [0.02 0.5  0.5 ]</td>\n",
       "                        <td id=\"T_51cb1_row2_col2\" class=\"data row2 col2\" >[0.05 0.71 0.71]\n",
       " [0.03 0.34 0.35]</td>\n",
       "                        <td id=\"T_51cb1_row2_col3\" class=\"data row2 col3\" >[0.08 1.86 1.86]\n",
       " [0.02 0.46 0.46]</td>\n",
       "                        <td id=\"T_51cb1_row2_col4\" class=\"data row2 col4\" >[0.02 0.69 0.69]\n",
       " [0.03 0.39 0.39]</td>\n",
       "            </tr>\n",
       "            <tr>\n",
       "                        <th id=\"T_51cb1_level0_row3\" class=\"row_heading level0 row3\" >[0.1 0.9]</th>\n",
       "                        <td id=\"T_51cb1_row3_col0\" class=\"data row3 col0\" >[0.08 3.46 3.46]\n",
       " [0.01 0.47 0.47]</td>\n",
       "                        <td id=\"T_51cb1_row3_col1\" class=\"data row3 col1\" >[0.02 0.88 0.88]\n",
       " [0.04 0.5  0.5 ]</td>\n",
       "                        <td id=\"T_51cb1_row3_col2\" class=\"data row3 col2\" >[0.05 1.45 1.45]\n",
       " [0.03 0.34 0.35]</td>\n",
       "                        <td id=\"T_51cb1_row3_col3\" class=\"data row3 col3\" >[0.03 0.59 0.59]\n",
       " [0.03 0.45 0.45]</td>\n",
       "                        <td id=\"T_51cb1_row3_col4\" class=\"data row3 col4\" >[0.07 2.64 2.64]\n",
       " [0.02 0.39 0.39]</td>\n",
       "            </tr>\n",
       "            <tr>\n",
       "                        <th id=\"T_51cb1_level0_row4\" class=\"row_heading level0 row4\" >[0.8 0.2]</th>\n",
       "                        <td id=\"T_51cb1_row4_col0\" class=\"data row4 col0\" >[0.03 0.75 0.75]\n",
       " [0.04 0.48 0.48]</td>\n",
       "                        <td id=\"T_51cb1_row4_col1\" class=\"data row4 col1\" >[0.05 4.28 4.28]\n",
       " [0.01 0.49 0.49]</td>\n",
       "                        <td id=\"T_51cb1_row4_col2\" class=\"data row4 col2\" >[0.04 1.92 1.92]\n",
       " [0.03 0.34 0.35]</td>\n",
       "                        <td id=\"T_51cb1_row4_col3\" class=\"data row4 col3\" >[0.05 3.8  3.81]\n",
       " [0.02 0.44 0.44]</td>\n",
       "                        <td id=\"T_51cb1_row4_col4\" class=\"data row4 col4\" >[0.03 0.65 0.65]\n",
       " [0.03 0.4  0.4 ]</td>\n",
       "            </tr>\n",
       "    </tbody></table>"
      ],
      "text/plain": [
       "<pandas.io.formats.style.Styler at 0x7fc98f08e520>"
      ]
     },
     "metadata": {},
     "output_type": "display_data"
    }
   ],
   "source": [
    "df_tmp = pd.DataFrame(index=[str(π)[1:-1] for π in πs], columns=[str(π)[1:-1] for π in πs])\n",
    "df_tmp.index.name = 'π_b'\n",
    "df_tmp.columns.name = 'π_e'\n",
    "for (i, π_b), (j, π_e) in itertools.product(enumerate(πs), enumerate(πs)):\n",
    "    ix = i*len(πs)+j\n",
    "    df_tmp.iloc[i,j] = str(df_out_all_0[ix].iloc[[2,4], [2,3,4]].round(2).values)[1:-1]\n",
    "display(df_tmp.style.set_properties(**{'white-space': 'pre-wrap'}))"
   ]
  },
  {
   "cell_type": "code",
   "execution_count": null,
   "id": "48c7d843-695c-488d-9473-4eb8aa13c4d7",
   "metadata": {
    "collapsed": true,
    "jupyter": {
     "outputs_hidden": true
    },
    "tags": []
   },
   "outputs": [],
   "source": [
    "for (i, π_b), (j, π_e) in itertools.product(enumerate(πs), enumerate(πs)):\n",
    "    ix = i*len(πs)+j\n",
    "    values = df_out_all_0[ix].iloc[[2,4], [2,3,4]].round(2).values\n",
    "    print(\"\"\"\\mask{{0.00}}{{{}}} & \\mask{{0.00}}{{{}}} & \\mask{{0.00}}{{{}}} \\\\\\\\ \\mask{{0.00}}{{{}}} & \\mask{{0.00}}{{{}}} & \\mask{{0.00}}{{{}}}\"\"\".format(*list(values.ravel())))"
   ]
  },
  {
   "cell_type": "code",
   "execution_count": 14,
   "id": "23dd71a3-c736-43aa-8fed-5030ae1798f4",
   "metadata": {},
   "outputs": [
    {
     "name": "stdout",
     "output_type": "stream",
     "text": [
      "$[\\mask{0.0}{1.0},\\mask{0.0}{0.0}]$ \n",
      "& \\scalebox{0.8}{$\\begin{matrix} \\mask{0.00}{0.03} & \\mask{0.00}{0.5} & \\mask{0.00}{0.5} \\\\ \\mask{0.00}{0.03} & \\mask{0.00}{0.5} & \\mask{0.00}{0.5} \\end{matrix}$} \n",
      "& \\scalebox{0.8}{$\\begin{matrix} \\mask{0.00}{\\shortminus 2} & \\mask{0.00}{0} & \\mask{0.00}{2} \\\\ \\mask{0.00}{0.02} & \\mask{0.00}{0.47} & \\mask{0.00}{0.47} \\end{matrix}$} \n",
      "& \\scalebox{0.8}{$\\begin{matrix} \\mask{0.00}{\\shortminus 0.98} & \\mask{0.00}{0.25} & \\mask{0.00}{1.01} \\\\ \\mask{0.00}{0.03} & \\mask{0.00}{0.34} & \\mask{0.00}{0.35} \\end{matrix}$} \n",
      "& \\scalebox{0.8}{$\\begin{matrix} \\mask{0.00}{\\shortminus 1.8} & \\mask{0.00}{0.05} & \\mask{0.00}{1.8} \\\\ \\mask{0.00}{0.02} & \\mask{0.00}{0.43} & \\mask{0.00}{0.43} \\end{matrix}$} \n",
      "& \\scalebox{0.8}{$\\begin{matrix} \\mask{0.00}{\\shortminus 0.37} & \\mask{0.00}{0.4} & \\mask{0.00}{0.55} \\\\ \\mask{0.00}{0.03} & \\mask{0.00}{0.41} & \\mask{0.00}{0.41} \\end{matrix}$} \n",
      "\\\\[12pt]\n",
      "$[\\mask{0.0}{0.0},\\mask{0.0}{1.0}]$ \n",
      "& \\scalebox{0.8}{$\\begin{matrix} \\mask{0.00}{\\shortminus 1} & \\mask{0.00}{0} & \\mask{0.00}{1} \\\\ \\mask{0.00}{0.02} & \\mask{0.00}{0.47} & \\mask{0.00}{0.47} \\end{matrix}$} \n",
      "& \\scalebox{0.8}{$\\begin{matrix} \\mask{0.00}{0.03} & \\mask{0.00}{0.5} & \\mask{0.00}{0.5} \\\\ \\mask{0.00}{0.03} & \\mask{0.00}{0.5} & \\mask{0.00}{0.5} \\end{matrix}$} \n",
      "& \\scalebox{0.8}{$\\begin{matrix} \\mask{0.00}{\\shortminus 0.48} & \\mask{0.00}{0.25} & \\mask{0.00}{0.54} \\\\ \\mask{0.00}{0.03} & \\mask{0.00}{0.34} & \\mask{0.00}{0.35} \\end{matrix}$} \n",
      "& \\scalebox{0.8}{$\\begin{matrix} \\mask{0.00}{\\shortminus 0.07} & \\mask{0.00}{0.45} & \\mask{0.00}{0.45} \\\\ \\mask{0.00}{0.03} & \\mask{0.00}{0.45} & \\mask{0.00}{0.45} \\end{matrix}$} \n",
      "& \\scalebox{0.8}{$\\begin{matrix} \\mask{0.00}{\\shortminus 0.79} & \\mask{0.00}{0.1} & \\mask{0.00}{0.8} \\\\ \\mask{0.00}{0.02} & \\mask{0.00}{0.39} & \\mask{0.00}{0.39} \\end{matrix}$} \n",
      "\\\\[12pt]\n",
      "$[\\mask{0.0}{0.5},\\mask{0.0}{0.5}]$ \n",
      "& \\scalebox{0.8}{$\\begin{matrix} \\mask{0.00}{0.01} & \\mask{0.00}{1.23} & \\mask{0.00}{1.23} \\\\ \\mask{0.00}{0.03} & \\mask{0.00}{0.47} & \\mask{0.00}{0.47} \\end{matrix}$} \n",
      "& \\scalebox{0.8}{$\\begin{matrix} \\mask{0.00}{0.09} & \\mask{0.00}{2.17} & \\mask{0.00}{2.17} \\\\ \\mask{0.00}{0.02} & \\mask{0.00}{0.5} & \\mask{0.00}{0.5} \\end{matrix}$} \n",
      "& \\scalebox{0.8}{$\\begin{matrix} \\mask{0.00}{0.05} & \\mask{0.00}{0.71} & \\mask{0.00}{0.71} \\\\ \\mask{0.00}{0.03} & \\mask{0.00}{0.34} & \\mask{0.00}{0.35} \\end{matrix}$} \n",
      "& \\scalebox{0.8}{$\\begin{matrix} \\mask{0.00}{0.08} & \\mask{0.00}{1.86} & \\mask{0.00}{1.86} \\\\ \\mask{0.00}{0.02} & \\mask{0.00}{0.46} & \\mask{0.00}{0.46} \\end{matrix}$} \n",
      "& \\scalebox{0.8}{$\\begin{matrix} \\mask{0.00}{0.02} & \\mask{0.00}{0.69} & \\mask{0.00}{0.69} \\\\ \\mask{0.00}{0.03} & \\mask{0.00}{0.39} & \\mask{0.00}{0.39} \\end{matrix}$} \n",
      "\\\\[12pt]\n",
      "$[\\mask{0.0}{0.1},\\mask{0.0}{0.9}]$ \n",
      "& \\scalebox{0.8}{$\\begin{matrix} \\mask{0.00}{0.08} & \\mask{0.00}{3.46} & \\mask{0.00}{3.46} \\\\ \\mask{0.00}{0.01} & \\mask{0.00}{0.47} & \\mask{0.00}{0.47} \\end{matrix}$} \n",
      "& \\scalebox{0.8}{$\\begin{matrix} \\mask{0.00}{0.02} & \\mask{0.00}{0.88} & \\mask{0.00}{0.88} \\\\ \\mask{0.00}{0.04} & \\mask{0.00}{0.5} & \\mask{0.00}{0.5} \\end{matrix}$} \n",
      "& \\scalebox{0.8}{$\\begin{matrix} \\mask{0.00}{0.05} & \\mask{0.00}{1.45} & \\mask{0.00}{1.45} \\\\ \\mask{0.00}{0.03} & \\mask{0.00}{0.34} & \\mask{0.00}{0.35} \\end{matrix}$} \n",
      "& \\scalebox{0.8}{$\\begin{matrix} \\mask{0.00}{0.03} & \\mask{0.00}{0.59} & \\mask{0.00}{0.59} \\\\ \\mask{0.00}{0.03} & \\mask{0.00}{0.45} & \\mask{0.00}{0.45} \\end{matrix}$} \n",
      "& \\scalebox{0.8}{$\\begin{matrix} \\mask{0.00}{0.07} & \\mask{0.00}{2.64} & \\mask{0.00}{2.64} \\\\ \\mask{0.00}{0.02} & \\mask{0.00}{0.39} & \\mask{0.00}{0.39} \\end{matrix}$} \n",
      "\\\\[12pt]\n",
      "$[\\mask{0.0}{0.8},\\mask{0.0}{0.2}]$ \n",
      "& \\scalebox{0.8}{$\\begin{matrix} \\mask{0.00}{0.03} & \\mask{0.00}{0.75} & \\mask{0.00}{0.75} \\\\ \\mask{0.00}{0.04} & \\mask{0.00}{0.48} & \\mask{0.00}{0.48} \\end{matrix}$} \n",
      "& \\scalebox{0.8}{$\\begin{matrix} \\mask{0.00}{0.05} & \\mask{0.00}{4.28} & \\mask{0.00}{4.28} \\\\ \\mask{0.00}{0.01} & \\mask{0.00}{0.49} & \\mask{0.00}{0.49} \\end{matrix}$} \n",
      "& \\scalebox{0.8}{$\\begin{matrix} \\mask{0.00}{0.04} & \\mask{0.00}{1.92} & \\mask{0.00}{1.92} \\\\ \\mask{0.00}{0.03} & \\mask{0.00}{0.34} & \\mask{0.00}{0.35} \\end{matrix}$} \n",
      "& \\scalebox{0.8}{$\\begin{matrix} \\mask{0.00}{0.05} & \\mask{0.00}{3.8} & \\mask{0.00}{3.81} \\\\ \\mask{0.00}{0.02} & \\mask{0.00}{0.44} & \\mask{0.00}{0.44} \\end{matrix}$} \n",
      "& \\scalebox{0.8}{$\\begin{matrix} \\mask{0.00}{0.03} & \\mask{0.00}{0.65} & \\mask{0.00}{0.65} \\\\ \\mask{0.00}{0.03} & \\mask{0.00}{0.4} & \\mask{0.00}{0.4} \\end{matrix}$} \n",
      "\\\\[12pt]\n"
     ]
    }
   ],
   "source": [
    "for (i, π_b) in enumerate(πs):\n",
    "    print(\"\"\"$[\\mask{{0.0}}{{{}}},\\mask{{0.0}}{{{}}}]$ \"\"\".format(π_b[0,0], π_b[0,1]))\n",
    "    for (j, π_e) in enumerate(πs):\n",
    "        ix = i*len(πs)+j\n",
    "        values = df_out_all_0[ix].iloc[[2,4], [2,3,4]].round(2).values\n",
    "        print(\"\"\"& \\\\scalebox{0.8}{$\\\\begin{matrix} \"\"\"\n",
    "              + \"\"\"\\mask{{0.00}}{{{}}} & \\mask{{0.00}}{{{}}} & \\mask{{0.00}}{{{}}} \\\\\\\\ \\mask{{0.00}}{{{}}} & \\mask{{0.00}}{{{}}} & \\mask{{0.00}}{{{}}}\"\"\".format(\n",
    "                  *[int(x) if x.is_integer() else x for x in list(values.ravel())]).replace('-', '\\\\shortminus ')\n",
    "              + \"\"\" \\end{matrix}$} \"\"\")\n",
    "    print(\"\"\"\\\\\\\\[12pt]\"\"\")"
   ]
  },
  {
   "cell_type": "markdown",
   "id": "4a49a117-038a-4596-bbbb-ea9a97db3f15",
   "metadata": {},
   "source": [
    "## Rs[1] setting"
   ]
  },
  {
   "cell_type": "code",
   "execution_count": 15,
   "id": "b73eb2b6-0ed8-4b3d-b455-b7f8387600ba",
   "metadata": {},
   "outputs": [],
   "source": [
    "R, sigma = Rs[1], sigmas[1]"
   ]
  },
  {
   "cell_type": "code",
   "execution_count": 16,
   "id": "bd981a8b-33bb-4097-8f50-0d1ebfb87239",
   "metadata": {},
   "outputs": [
    {
     "name": "stderr",
     "output_type": "stream",
     "text": [
      "<ipython-input-7-04e40100a22a>:36: RuntimeWarning: invalid value encountered in double_scalars\n",
      "  WISs.append(np.sum(rho * r) / np.sum(rho))\n"
     ]
    }
   ],
   "source": [
    "df_out_all_1 = []\n",
    "for π_b in πs:\n",
    "    for π_e in πs:\n",
    "        df_out = single_run()\n",
    "        df_out_all_1.append(df_out)"
   ]
  },
  {
   "cell_type": "code",
   "execution_count": 17,
   "id": "fb6d567c-1b1e-452a-b25f-026589f52df7",
   "metadata": {},
   "outputs": [
    {
     "data": {
      "text/html": [
       "<style  type=\"text/css\" >\n",
       "#T_5ef5c_row0_col0,#T_5ef5c_row0_col1,#T_5ef5c_row0_col2,#T_5ef5c_row0_col3,#T_5ef5c_row0_col4,#T_5ef5c_row1_col0,#T_5ef5c_row1_col1,#T_5ef5c_row1_col2,#T_5ef5c_row1_col3,#T_5ef5c_row1_col4,#T_5ef5c_row2_col0,#T_5ef5c_row2_col1,#T_5ef5c_row2_col2,#T_5ef5c_row2_col3,#T_5ef5c_row2_col4,#T_5ef5c_row3_col0,#T_5ef5c_row3_col1,#T_5ef5c_row3_col2,#T_5ef5c_row3_col3,#T_5ef5c_row3_col4,#T_5ef5c_row4_col0,#T_5ef5c_row4_col1,#T_5ef5c_row4_col2,#T_5ef5c_row4_col3,#T_5ef5c_row4_col4{\n",
       "            white-space:  pre-wrap;\n",
       "        }</style><table id=\"T_5ef5c_\" ><thead>    <tr>        <th class=\"index_name level0\" >π_e</th>        <th class=\"col_heading level0 col0\" >[1. 0.]</th>        <th class=\"col_heading level0 col1\" >[0. 1.]</th>        <th class=\"col_heading level0 col2\" >[0.5 0.5]</th>        <th class=\"col_heading level0 col3\" >[0.1 0.9]</th>        <th class=\"col_heading level0 col4\" >[0.8 0.2]</th>    </tr>    <tr>        <th class=\"index_name level0\" >π_b</th>        <th class=\"blank\" ></th>        <th class=\"blank\" ></th>        <th class=\"blank\" ></th>        <th class=\"blank\" ></th>        <th class=\"blank\" ></th>    </tr></thead><tbody>\n",
       "                <tr>\n",
       "                        <th id=\"T_5ef5c_level0_row0\" class=\"row_heading level0 row0\" >[1. 0.]</th>\n",
       "                        <td id=\"T_5ef5c_row0_col0\" class=\"data row0 col0\" >[0.03 0.5  0.5 ]\n",
       " [0.03 0.5  0.5 ]</td>\n",
       "                        <td id=\"T_5ef5c_row0_col1\" class=\"data row0 col1\" >[-1.    0.    1.  ]\n",
       " [ 0.02  0.47  0.47]</td>\n",
       "                        <td id=\"T_5ef5c_row0_col2\" class=\"data row0 col2\" >[-0.48  0.25  0.54]\n",
       " [ 0.03  0.34  0.35]</td>\n",
       "                        <td id=\"T_5ef5c_row0_col3\" class=\"data row0 col3\" >[-0.9   0.05  0.9 ]\n",
       " [ 0.02  0.43  0.43]</td>\n",
       "                        <td id=\"T_5ef5c_row0_col4\" class=\"data row0 col4\" >[-0.17  0.4   0.43]\n",
       " [ 0.03  0.41  0.41]</td>\n",
       "            </tr>\n",
       "            <tr>\n",
       "                        <th id=\"T_5ef5c_level0_row1\" class=\"row_heading level0 row1\" >[0. 1.]</th>\n",
       "                        <td id=\"T_5ef5c_row1_col0\" class=\"data row1 col0\" >[1.   0.   1.  ]\n",
       " [0.02 0.47 0.47]</td>\n",
       "                        <td id=\"T_5ef5c_row1_col1\" class=\"data row1 col1\" >[0.03 0.5  0.5 ]\n",
       " [0.03 0.5  0.5 ]</td>\n",
       "                        <td id=\"T_5ef5c_row1_col2\" class=\"data row1 col2\" >[0.52 0.25 0.57]\n",
       " [0.03 0.34 0.35]</td>\n",
       "                        <td id=\"T_5ef5c_row1_col3\" class=\"data row1 col3\" >[0.13 0.45 0.47]\n",
       " [0.03 0.45 0.45]</td>\n",
       "                        <td id=\"T_5ef5c_row1_col4\" class=\"data row1 col4\" >[0.81 0.1  0.81]\n",
       " [0.02 0.39 0.39]</td>\n",
       "            </tr>\n",
       "            <tr>\n",
       "                        <th id=\"T_5ef5c_level0_row2\" class=\"row_heading level0 row2\" >[0.5 0.5]</th>\n",
       "                        <td id=\"T_5ef5c_row2_col0\" class=\"data row2 col0\" >[0.06 1.17 1.17]\n",
       " [0.03 0.47 0.47]</td>\n",
       "                        <td id=\"T_5ef5c_row2_col1\" class=\"data row2 col1\" >[0.06 1.28 1.28]\n",
       " [0.02 0.5  0.5 ]</td>\n",
       "                        <td id=\"T_5ef5c_row2_col2\" class=\"data row2 col2\" >[0.06 1.12 1.12]\n",
       " [0.03 0.34 0.35]</td>\n",
       "                        <td id=\"T_5ef5c_row2_col3\" class=\"data row2 col3\" >[0.06 1.23 1.23]\n",
       " [0.02 0.46 0.46]</td>\n",
       "                        <td id=\"T_5ef5c_row2_col4\" class=\"data row2 col4\" >[0.06 1.13 1.13]\n",
       " [0.03 0.39 0.39]</td>\n",
       "            </tr>\n",
       "            <tr>\n",
       "                        <th id=\"T_5ef5c_level0_row3\" class=\"row_heading level0 row3\" >[0.1 0.9]</th>\n",
       "                        <td id=\"T_5ef5c_row3_col0\" class=\"data row3 col0\" >[-0.04  3.37  3.37]\n",
       " [ 0.01  0.47  0.47]</td>\n",
       "                        <td id=\"T_5ef5c_row3_col1\" class=\"data row3 col1\" >[0.03 0.64 0.64]\n",
       " [0.04 0.5  0.5 ]</td>\n",
       "                        <td id=\"T_5ef5c_row3_col2\" class=\"data row3 col2\" >[-0.01  1.86  1.86]\n",
       " [ 0.03  0.34  0.35]</td>\n",
       "                        <td id=\"T_5ef5c_row3_col3\" class=\"data row3 col3\" >[0.02 0.8  0.8 ]\n",
       " [0.03 0.45 0.45]</td>\n",
       "                        <td id=\"T_5ef5c_row3_col4\" class=\"data row3 col4\" >[-0.03  2.76  2.76]\n",
       " [ 0.02  0.39  0.39]</td>\n",
       "            </tr>\n",
       "            <tr>\n",
       "                        <th id=\"T_5ef5c_level0_row4\" class=\"row_heading level0 row4\" >[0.8 0.2]</th>\n",
       "                        <td id=\"T_5ef5c_row4_col0\" class=\"data row4 col0\" >[0.02 0.74 0.74]\n",
       " [0.04 0.48 0.48]</td>\n",
       "                        <td id=\"T_5ef5c_row4_col1\" class=\"data row4 col1\" >[0.06 2.42 2.42]\n",
       " [0.01 0.49 0.49]</td>\n",
       "                        <td id=\"T_5ef5c_row4_col2\" class=\"data row4 col2\" >[0.04 1.46 1.46]\n",
       " [0.03 0.34 0.35]</td>\n",
       "                        <td id=\"T_5ef5c_row4_col3\" class=\"data row4 col3\" >[0.06 2.22 2.23]\n",
       " [0.02 0.44 0.44]</td>\n",
       "                        <td id=\"T_5ef5c_row4_col4\" class=\"data row4 col4\" >[0.03 0.95 0.96]\n",
       " [0.03 0.4  0.4 ]</td>\n",
       "            </tr>\n",
       "    </tbody></table>"
      ],
      "text/plain": [
       "<pandas.io.formats.style.Styler at 0x7fc98f184a30>"
      ]
     },
     "metadata": {},
     "output_type": "display_data"
    }
   ],
   "source": [
    "df_tmp = pd.DataFrame(index=[str(π)[1:-1] for π in πs], columns=[str(π)[1:-1] for π in πs])\n",
    "df_tmp.index.name = 'π_b'\n",
    "df_tmp.columns.name = 'π_e'\n",
    "for (i, π_b), (j, π_e) in itertools.product(enumerate(πs), enumerate(πs)):\n",
    "    ix = i*len(πs)+j\n",
    "    df_tmp.iloc[i,j] = str(df_out_all_1[ix].iloc[[2,4], [2,3,4]].round(2).values)[1:-1]\n",
    "display(df_tmp.style.set_properties(**{'white-space': 'pre-wrap'}))"
   ]
  },
  {
   "cell_type": "code",
   "execution_count": 18,
   "id": "61ff3a2a-aeee-4e6f-909d-cfa6431e48bd",
   "metadata": {},
   "outputs": [
    {
     "name": "stdout",
     "output_type": "stream",
     "text": [
      "$[\\mask{0.0}{1.0},\\mask{0.0}{0.0}]$ \n",
      "& \\scalebox{0.8}{$\\begin{matrix} \\mask{0.00}{0.03} & \\mask{0.00}{0.5} & \\mask{0.00}{0.5} \\\\ \\mask{0.00}{0.03} & \\mask{0.00}{0.5} & \\mask{0.00}{0.5} \\end{matrix}$} \n",
      "& \\scalebox{0.8}{$\\begin{matrix} \\mask{0.00}{\\shortminus 1} & \\mask{0.00}{0} & \\mask{0.00}{1} \\\\ \\mask{0.00}{0.02} & \\mask{0.00}{0.47} & \\mask{0.00}{0.47} \\end{matrix}$} \n",
      "& \\scalebox{0.8}{$\\begin{matrix} \\mask{0.00}{\\shortminus 0.48} & \\mask{0.00}{0.25} & \\mask{0.00}{0.54} \\\\ \\mask{0.00}{0.03} & \\mask{0.00}{0.34} & \\mask{0.00}{0.35} \\end{matrix}$} \n",
      "& \\scalebox{0.8}{$\\begin{matrix} \\mask{0.00}{\\shortminus 0.9} & \\mask{0.00}{0.05} & \\mask{0.00}{0.9} \\\\ \\mask{0.00}{0.02} & \\mask{0.00}{0.43} & \\mask{0.00}{0.43} \\end{matrix}$} \n",
      "& \\scalebox{0.8}{$\\begin{matrix} \\mask{0.00}{\\shortminus 0.17} & \\mask{0.00}{0.4} & \\mask{0.00}{0.43} \\\\ \\mask{0.00}{0.03} & \\mask{0.00}{0.41} & \\mask{0.00}{0.41} \\end{matrix}$} \n",
      "\\\\[12pt]\n",
      "$[\\mask{0.0}{0.0},\\mask{0.0}{1.0}]$ \n",
      "& \\scalebox{0.8}{$\\begin{matrix} \\mask{0.00}{1} & \\mask{0.00}{0} & \\mask{0.00}{1} \\\\ \\mask{0.00}{0.02} & \\mask{0.00}{0.47} & \\mask{0.00}{0.47} \\end{matrix}$} \n",
      "& \\scalebox{0.8}{$\\begin{matrix} \\mask{0.00}{0.03} & \\mask{0.00}{0.5} & \\mask{0.00}{0.5} \\\\ \\mask{0.00}{0.03} & \\mask{0.00}{0.5} & \\mask{0.00}{0.5} \\end{matrix}$} \n",
      "& \\scalebox{0.8}{$\\begin{matrix} \\mask{0.00}{0.52} & \\mask{0.00}{0.25} & \\mask{0.00}{0.57} \\\\ \\mask{0.00}{0.03} & \\mask{0.00}{0.34} & \\mask{0.00}{0.35} \\end{matrix}$} \n",
      "& \\scalebox{0.8}{$\\begin{matrix} \\mask{0.00}{0.13} & \\mask{0.00}{0.45} & \\mask{0.00}{0.47} \\\\ \\mask{0.00}{0.03} & \\mask{0.00}{0.45} & \\mask{0.00}{0.45} \\end{matrix}$} \n",
      "& \\scalebox{0.8}{$\\begin{matrix} \\mask{0.00}{0.81} & \\mask{0.00}{0.1} & \\mask{0.00}{0.81} \\\\ \\mask{0.00}{0.02} & \\mask{0.00}{0.39} & \\mask{0.00}{0.39} \\end{matrix}$} \n",
      "\\\\[12pt]\n",
      "$[\\mask{0.0}{0.5},\\mask{0.0}{0.5}]$ \n",
      "& \\scalebox{0.8}{$\\begin{matrix} \\mask{0.00}{0.06} & \\mask{0.00}{1.17} & \\mask{0.00}{1.17} \\\\ \\mask{0.00}{0.03} & \\mask{0.00}{0.47} & \\mask{0.00}{0.47} \\end{matrix}$} \n",
      "& \\scalebox{0.8}{$\\begin{matrix} \\mask{0.00}{0.06} & \\mask{0.00}{1.28} & \\mask{0.00}{1.28} \\\\ \\mask{0.00}{0.02} & \\mask{0.00}{0.5} & \\mask{0.00}{0.5} \\end{matrix}$} \n",
      "& \\scalebox{0.8}{$\\begin{matrix} \\mask{0.00}{0.06} & \\mask{0.00}{1.12} & \\mask{0.00}{1.12} \\\\ \\mask{0.00}{0.03} & \\mask{0.00}{0.34} & \\mask{0.00}{0.35} \\end{matrix}$} \n",
      "& \\scalebox{0.8}{$\\begin{matrix} \\mask{0.00}{0.06} & \\mask{0.00}{1.23} & \\mask{0.00}{1.23} \\\\ \\mask{0.00}{0.02} & \\mask{0.00}{0.46} & \\mask{0.00}{0.46} \\end{matrix}$} \n",
      "& \\scalebox{0.8}{$\\begin{matrix} \\mask{0.00}{0.06} & \\mask{0.00}{1.13} & \\mask{0.00}{1.13} \\\\ \\mask{0.00}{0.03} & \\mask{0.00}{0.39} & \\mask{0.00}{0.39} \\end{matrix}$} \n",
      "\\\\[12pt]\n",
      "$[\\mask{0.0}{0.1},\\mask{0.0}{0.9}]$ \n",
      "& \\scalebox{0.8}{$\\begin{matrix} \\mask{0.00}{\\shortminus 0.04} & \\mask{0.00}{3.37} & \\mask{0.00}{3.37} \\\\ \\mask{0.00}{0.01} & \\mask{0.00}{0.47} & \\mask{0.00}{0.47} \\end{matrix}$} \n",
      "& \\scalebox{0.8}{$\\begin{matrix} \\mask{0.00}{0.03} & \\mask{0.00}{0.64} & \\mask{0.00}{0.64} \\\\ \\mask{0.00}{0.04} & \\mask{0.00}{0.5} & \\mask{0.00}{0.5} \\end{matrix}$} \n",
      "& \\scalebox{0.8}{$\\begin{matrix} \\mask{0.00}{\\shortminus 0.01} & \\mask{0.00}{1.86} & \\mask{0.00}{1.86} \\\\ \\mask{0.00}{0.03} & \\mask{0.00}{0.34} & \\mask{0.00}{0.35} \\end{matrix}$} \n",
      "& \\scalebox{0.8}{$\\begin{matrix} \\mask{0.00}{0.02} & \\mask{0.00}{0.8} & \\mask{0.00}{0.8} \\\\ \\mask{0.00}{0.03} & \\mask{0.00}{0.45} & \\mask{0.00}{0.45} \\end{matrix}$} \n",
      "& \\scalebox{0.8}{$\\begin{matrix} \\mask{0.00}{\\shortminus 0.03} & \\mask{0.00}{2.76} & \\mask{0.00}{2.76} \\\\ \\mask{0.00}{0.02} & \\mask{0.00}{0.39} & \\mask{0.00}{0.39} \\end{matrix}$} \n",
      "\\\\[12pt]\n",
      "$[\\mask{0.0}{0.8},\\mask{0.0}{0.2}]$ \n",
      "& \\scalebox{0.8}{$\\begin{matrix} \\mask{0.00}{0.02} & \\mask{0.00}{0.74} & \\mask{0.00}{0.74} \\\\ \\mask{0.00}{0.04} & \\mask{0.00}{0.48} & \\mask{0.00}{0.48} \\end{matrix}$} \n",
      "& \\scalebox{0.8}{$\\begin{matrix} \\mask{0.00}{0.06} & \\mask{0.00}{2.42} & \\mask{0.00}{2.42} \\\\ \\mask{0.00}{0.01} & \\mask{0.00}{0.49} & \\mask{0.00}{0.49} \\end{matrix}$} \n",
      "& \\scalebox{0.8}{$\\begin{matrix} \\mask{0.00}{0.04} & \\mask{0.00}{1.46} & \\mask{0.00}{1.46} \\\\ \\mask{0.00}{0.03} & \\mask{0.00}{0.34} & \\mask{0.00}{0.35} \\end{matrix}$} \n",
      "& \\scalebox{0.8}{$\\begin{matrix} \\mask{0.00}{0.06} & \\mask{0.00}{2.22} & \\mask{0.00}{2.23} \\\\ \\mask{0.00}{0.02} & \\mask{0.00}{0.44} & \\mask{0.00}{0.44} \\end{matrix}$} \n",
      "& \\scalebox{0.8}{$\\begin{matrix} \\mask{0.00}{0.03} & \\mask{0.00}{0.95} & \\mask{0.00}{0.96} \\\\ \\mask{0.00}{0.03} & \\mask{0.00}{0.4} & \\mask{0.00}{0.4} \\end{matrix}$} \n",
      "\\\\[12pt]\n"
     ]
    }
   ],
   "source": [
    "for (i, π_b) in enumerate(πs):\n",
    "    print(\"\"\"$[\\mask{{0.0}}{{{}}},\\mask{{0.0}}{{{}}}]$ \"\"\".format(π_b[0,0], π_b[0,1]))\n",
    "    for (j, π_e) in enumerate(πs):\n",
    "        ix = i*len(πs)+j\n",
    "        values = df_out_all_1[ix].iloc[[2,4], [2,3,4]].round(2).values\n",
    "        print(\"\"\"& \\\\scalebox{0.8}{$\\\\begin{matrix} \"\"\"\n",
    "              + \"\"\"\\mask{{0.00}}{{{}}} & \\mask{{0.00}}{{{}}} & \\mask{{0.00}}{{{}}} \\\\\\\\ \\mask{{0.00}}{{{}}} & \\mask{{0.00}}{{{}}} & \\mask{{0.00}}{{{}}}\"\"\".format(\n",
    "                  *[int(x) if x.is_integer() else x for x in list(values.ravel())]).replace('-', '\\\\shortminus ')\n",
    "              + \"\"\" \\end{matrix}$} \"\"\")\n",
    "    print(\"\"\"\\\\\\\\[12pt]\"\"\")"
   ]
  },
  {
   "cell_type": "markdown",
   "id": "f34399d8-8dcb-4884-888c-aaf437f7f79e",
   "metadata": {},
   "source": [
    "## Rs[2] setting"
   ]
  },
  {
   "cell_type": "code",
   "execution_count": 19,
   "id": "392b0aa2-59da-4f15-a3a8-1f3bba5aaa1d",
   "metadata": {},
   "outputs": [],
   "source": [
    "R, sigma = Rs[2], sigmas[2]"
   ]
  },
  {
   "cell_type": "code",
   "execution_count": 20,
   "id": "5936bc23-075f-437f-b779-b65c06322d22",
   "metadata": {},
   "outputs": [
    {
     "name": "stderr",
     "output_type": "stream",
     "text": [
      "<ipython-input-7-04e40100a22a>:36: RuntimeWarning: invalid value encountered in double_scalars\n",
      "  WISs.append(np.sum(rho * r) / np.sum(rho))\n"
     ]
    }
   ],
   "source": [
    "df_out_all_2 = []\n",
    "for π_b in πs:\n",
    "    for π_e in πs:\n",
    "        df_out = single_run()\n",
    "        df_out_all_2.append(df_out)"
   ]
  },
  {
   "cell_type": "code",
   "execution_count": 21,
   "id": "bec20438-0e82-48f9-ba54-2bc17b8f7065",
   "metadata": {},
   "outputs": [
    {
     "data": {
      "text/html": [
       "<style  type=\"text/css\" >\n",
       "#T_529d5_row0_col0,#T_529d5_row0_col1,#T_529d5_row0_col2,#T_529d5_row0_col3,#T_529d5_row0_col4,#T_529d5_row1_col0,#T_529d5_row1_col1,#T_529d5_row1_col2,#T_529d5_row1_col3,#T_529d5_row1_col4,#T_529d5_row2_col0,#T_529d5_row2_col1,#T_529d5_row2_col2,#T_529d5_row2_col3,#T_529d5_row2_col4,#T_529d5_row3_col0,#T_529d5_row3_col1,#T_529d5_row3_col2,#T_529d5_row3_col3,#T_529d5_row3_col4,#T_529d5_row4_col0,#T_529d5_row4_col1,#T_529d5_row4_col2,#T_529d5_row4_col3,#T_529d5_row4_col4{\n",
       "            white-space:  pre-wrap;\n",
       "        }</style><table id=\"T_529d5_\" ><thead>    <tr>        <th class=\"index_name level0\" >π_e</th>        <th class=\"col_heading level0 col0\" >[1. 0.]</th>        <th class=\"col_heading level0 col1\" >[0. 1.]</th>        <th class=\"col_heading level0 col2\" >[0.5 0.5]</th>        <th class=\"col_heading level0 col3\" >[0.1 0.9]</th>        <th class=\"col_heading level0 col4\" >[0.8 0.2]</th>    </tr>    <tr>        <th class=\"index_name level0\" >π_b</th>        <th class=\"blank\" ></th>        <th class=\"blank\" ></th>        <th class=\"blank\" ></th>        <th class=\"blank\" ></th>        <th class=\"blank\" ></th>    </tr></thead><tbody>\n",
       "                <tr>\n",
       "                        <th id=\"T_529d5_level0_row0\" class=\"row_heading level0 row0\" >[1. 0.]</th>\n",
       "                        <td id=\"T_529d5_row0_col0\" class=\"data row0 col0\" >[0.03 0.5  0.5 ]\n",
       " [0.03 0.5  0.5 ]</td>\n",
       "                        <td id=\"T_529d5_row0_col1\" class=\"data row0 col1\" >[2.   0.   2.  ]\n",
       " [0.02 0.47 0.47]</td>\n",
       "                        <td id=\"T_529d5_row0_col2\" class=\"data row0 col2\" >[1.02 0.25 1.05]\n",
       " [0.03 0.34 0.35]</td>\n",
       "                        <td id=\"T_529d5_row0_col3\" class=\"data row0 col3\" >[1.8  0.05 1.8 ]\n",
       " [0.02 0.43 0.43]</td>\n",
       "                        <td id=\"T_529d5_row0_col4\" class=\"data row0 col4\" >[0.43 0.4  0.58]\n",
       " [0.03 0.41 0.41]</td>\n",
       "            </tr>\n",
       "            <tr>\n",
       "                        <th id=\"T_529d5_level0_row1\" class=\"row_heading level0 row1\" >[0. 1.]</th>\n",
       "                        <td id=\"T_529d5_row1_col0\" class=\"data row1 col0\" >[1.   0.   1.  ]\n",
       " [0.02 0.47 0.47]</td>\n",
       "                        <td id=\"T_529d5_row1_col1\" class=\"data row1 col1\" >[0.03 0.5  0.5 ]\n",
       " [0.03 0.5  0.5 ]</td>\n",
       "                        <td id=\"T_529d5_row1_col2\" class=\"data row1 col2\" >[0.52 0.25 0.57]\n",
       " [0.03 0.34 0.35]</td>\n",
       "                        <td id=\"T_529d5_row1_col3\" class=\"data row1 col3\" >[0.13 0.45 0.47]\n",
       " [0.03 0.45 0.45]</td>\n",
       "                        <td id=\"T_529d5_row1_col4\" class=\"data row1 col4\" >[0.81 0.1  0.81]\n",
       " [0.02 0.39 0.39]</td>\n",
       "            </tr>\n",
       "            <tr>\n",
       "                        <th id=\"T_529d5_level0_row2\" class=\"row_heading level0 row2\" >[0.5 0.5]</th>\n",
       "                        <td id=\"T_529d5_row2_col0\" class=\"data row2 col0\" >[0.06 1.17 1.17]\n",
       " [0.03 0.47 0.47]</td>\n",
       "                        <td id=\"T_529d5_row2_col1\" class=\"data row2 col1\" >[-0.01  2.1   2.1 ]\n",
       " [ 0.02  0.5   0.5 ]</td>\n",
       "                        <td id=\"T_529d5_row2_col2\" class=\"data row2 col2\" >[0.02 0.7  0.71]\n",
       " [0.03 0.34 0.35]</td>\n",
       "                        <td id=\"T_529d5_row2_col3\" class=\"data row2 col3\" >[-0.    1.8   1.8 ]\n",
       " [ 0.02  0.46  0.46]</td>\n",
       "                        <td id=\"T_529d5_row2_col4\" class=\"data row2 col4\" >[0.04 0.67 0.67]\n",
       " [0.03 0.39 0.39]</td>\n",
       "            </tr>\n",
       "            <tr>\n",
       "                        <th id=\"T_529d5_level0_row3\" class=\"row_heading level0 row3\" >[0.1 0.9]</th>\n",
       "                        <td id=\"T_529d5_row3_col0\" class=\"data row3 col0\" >[-0.04  3.37  3.37]\n",
       " [ 0.01  0.47  0.47]</td>\n",
       "                        <td id=\"T_529d5_row3_col1\" class=\"data row3 col1\" >[0.05 0.86 0.86]\n",
       " [0.04 0.5  0.5 ]</td>\n",
       "                        <td id=\"T_529d5_row3_col2\" class=\"data row3 col2\" >[0.   1.41 1.41]\n",
       " [0.03 0.34 0.35]</td>\n",
       "                        <td id=\"T_529d5_row3_col3\" class=\"data row3 col3\" >[0.04 0.58 0.58]\n",
       " [0.03 0.45 0.45]</td>\n",
       "                        <td id=\"T_529d5_row3_col4\" class=\"data row3 col4\" >[-0.02  2.57  2.57]\n",
       " [ 0.02  0.39  0.39]</td>\n",
       "            </tr>\n",
       "            <tr>\n",
       "                        <th id=\"T_529d5_level0_row4\" class=\"row_heading level0 row4\" >[0.8 0.2]</th>\n",
       "                        <td id=\"T_529d5_row4_col0\" class=\"data row4 col0\" >[0.02 0.74 0.74]\n",
       " [0.04 0.48 0.48]</td>\n",
       "                        <td id=\"T_529d5_row4_col1\" class=\"data row4 col1\" >[0.09 4.02 4.02]\n",
       " [0.01 0.49 0.49]</td>\n",
       "                        <td id=\"T_529d5_row4_col2\" class=\"data row4 col2\" >[0.06 1.8  1.8 ]\n",
       " [0.03 0.34 0.35]</td>\n",
       "                        <td id=\"T_529d5_row4_col3\" class=\"data row4 col3\" >[0.08 3.57 3.57]\n",
       " [0.02 0.44 0.44]</td>\n",
       "                        <td id=\"T_529d5_row4_col4\" class=\"data row4 col4\" >[0.04 0.63 0.63]\n",
       " [0.03 0.4  0.4 ]</td>\n",
       "            </tr>\n",
       "    </tbody></table>"
      ],
      "text/plain": [
       "<pandas.io.formats.style.Styler at 0x7fc98ec7d0a0>"
      ]
     },
     "metadata": {},
     "output_type": "display_data"
    }
   ],
   "source": [
    "df_tmp = pd.DataFrame(index=[str(π)[1:-1] for π in πs], columns=[str(π)[1:-1] for π in πs])\n",
    "df_tmp.index.name = 'π_b'\n",
    "df_tmp.columns.name = 'π_e'\n",
    "for (i, π_b), (j, π_e) in itertools.product(enumerate(πs), enumerate(πs)):\n",
    "    ix = i*len(πs)+j\n",
    "    df_tmp.iloc[i,j] = str(df_out_all_2[ix].iloc[[2,4], [2,3,4]].round(2).values)[1:-1]\n",
    "display(df_tmp.style.set_properties(**{'white-space': 'pre-wrap'}))"
   ]
  },
  {
   "cell_type": "code",
   "execution_count": 22,
   "id": "3aa514d1-939e-4adb-94c1-8732c1875c7b",
   "metadata": {},
   "outputs": [
    {
     "name": "stdout",
     "output_type": "stream",
     "text": [
      "$[\\mask{0.0}{1.0},\\mask{0.0}{0.0}]$ \n",
      "& \\scalebox{0.8}{$\\begin{matrix} \\mask{0.00}{0.03} & \\mask{0.00}{0.5} & \\mask{0.00}{0.5} \\\\ \\mask{0.00}{0.03} & \\mask{0.00}{0.5} & \\mask{0.00}{0.5} \\end{matrix}$} \n",
      "& \\scalebox{0.8}{$\\begin{matrix} \\mask{0.00}{2} & \\mask{0.00}{0} & \\mask{0.00}{2} \\\\ \\mask{0.00}{0.02} & \\mask{0.00}{0.47} & \\mask{0.00}{0.47} \\end{matrix}$} \n",
      "& \\scalebox{0.8}{$\\begin{matrix} \\mask{0.00}{1.02} & \\mask{0.00}{0.25} & \\mask{0.00}{1.05} \\\\ \\mask{0.00}{0.03} & \\mask{0.00}{0.34} & \\mask{0.00}{0.35} \\end{matrix}$} \n",
      "& \\scalebox{0.8}{$\\begin{matrix} \\mask{0.00}{1.8} & \\mask{0.00}{0.05} & \\mask{0.00}{1.8} \\\\ \\mask{0.00}{0.02} & \\mask{0.00}{0.43} & \\mask{0.00}{0.43} \\end{matrix}$} \n",
      "& \\scalebox{0.8}{$\\begin{matrix} \\mask{0.00}{0.43} & \\mask{0.00}{0.4} & \\mask{0.00}{0.58} \\\\ \\mask{0.00}{0.03} & \\mask{0.00}{0.41} & \\mask{0.00}{0.41} \\end{matrix}$} \n",
      "\\\\[12pt]\n",
      "$[\\mask{0.0}{0.0},\\mask{0.0}{1.0}]$ \n",
      "& \\scalebox{0.8}{$\\begin{matrix} \\mask{0.00}{1} & \\mask{0.00}{0} & \\mask{0.00}{1} \\\\ \\mask{0.00}{0.02} & \\mask{0.00}{0.47} & \\mask{0.00}{0.47} \\end{matrix}$} \n",
      "& \\scalebox{0.8}{$\\begin{matrix} \\mask{0.00}{0.03} & \\mask{0.00}{0.5} & \\mask{0.00}{0.5} \\\\ \\mask{0.00}{0.03} & \\mask{0.00}{0.5} & \\mask{0.00}{0.5} \\end{matrix}$} \n",
      "& \\scalebox{0.8}{$\\begin{matrix} \\mask{0.00}{0.52} & \\mask{0.00}{0.25} & \\mask{0.00}{0.57} \\\\ \\mask{0.00}{0.03} & \\mask{0.00}{0.34} & \\mask{0.00}{0.35} \\end{matrix}$} \n",
      "& \\scalebox{0.8}{$\\begin{matrix} \\mask{0.00}{0.13} & \\mask{0.00}{0.45} & \\mask{0.00}{0.47} \\\\ \\mask{0.00}{0.03} & \\mask{0.00}{0.45} & \\mask{0.00}{0.45} \\end{matrix}$} \n",
      "& \\scalebox{0.8}{$\\begin{matrix} \\mask{0.00}{0.81} & \\mask{0.00}{0.1} & \\mask{0.00}{0.81} \\\\ \\mask{0.00}{0.02} & \\mask{0.00}{0.39} & \\mask{0.00}{0.39} \\end{matrix}$} \n",
      "\\\\[12pt]\n",
      "$[\\mask{0.0}{0.5},\\mask{0.0}{0.5}]$ \n",
      "& \\scalebox{0.8}{$\\begin{matrix} \\mask{0.00}{0.06} & \\mask{0.00}{1.17} & \\mask{0.00}{1.17} \\\\ \\mask{0.00}{0.03} & \\mask{0.00}{0.47} & \\mask{0.00}{0.47} \\end{matrix}$} \n",
      "& \\scalebox{0.8}{$\\begin{matrix} \\mask{0.00}{\\shortminus 0.01} & \\mask{0.00}{2.1} & \\mask{0.00}{2.1} \\\\ \\mask{0.00}{0.02} & \\mask{0.00}{0.5} & \\mask{0.00}{0.5} \\end{matrix}$} \n",
      "& \\scalebox{0.8}{$\\begin{matrix} \\mask{0.00}{0.02} & \\mask{0.00}{0.7} & \\mask{0.00}{0.71} \\\\ \\mask{0.00}{0.03} & \\mask{0.00}{0.34} & \\mask{0.00}{0.35} \\end{matrix}$} \n",
      "& \\scalebox{0.8}{$\\begin{matrix} \\mask{0.00}{0} & \\mask{0.00}{1.8} & \\mask{0.00}{1.8} \\\\ \\mask{0.00}{0.02} & \\mask{0.00}{0.46} & \\mask{0.00}{0.46} \\end{matrix}$} \n",
      "& \\scalebox{0.8}{$\\begin{matrix} \\mask{0.00}{0.04} & \\mask{0.00}{0.67} & \\mask{0.00}{0.67} \\\\ \\mask{0.00}{0.03} & \\mask{0.00}{0.39} & \\mask{0.00}{0.39} \\end{matrix}$} \n",
      "\\\\[12pt]\n",
      "$[\\mask{0.0}{0.1},\\mask{0.0}{0.9}]$ \n",
      "& \\scalebox{0.8}{$\\begin{matrix} \\mask{0.00}{\\shortminus 0.04} & \\mask{0.00}{3.37} & \\mask{0.00}{3.37} \\\\ \\mask{0.00}{0.01} & \\mask{0.00}{0.47} & \\mask{0.00}{0.47} \\end{matrix}$} \n",
      "& \\scalebox{0.8}{$\\begin{matrix} \\mask{0.00}{0.05} & \\mask{0.00}{0.86} & \\mask{0.00}{0.86} \\\\ \\mask{0.00}{0.04} & \\mask{0.00}{0.5} & \\mask{0.00}{0.5} \\end{matrix}$} \n",
      "& \\scalebox{0.8}{$\\begin{matrix} \\mask{0.00}{0} & \\mask{0.00}{1.41} & \\mask{0.00}{1.41} \\\\ \\mask{0.00}{0.03} & \\mask{0.00}{0.34} & \\mask{0.00}{0.35} \\end{matrix}$} \n",
      "& \\scalebox{0.8}{$\\begin{matrix} \\mask{0.00}{0.04} & \\mask{0.00}{0.58} & \\mask{0.00}{0.58} \\\\ \\mask{0.00}{0.03} & \\mask{0.00}{0.45} & \\mask{0.00}{0.45} \\end{matrix}$} \n",
      "& \\scalebox{0.8}{$\\begin{matrix} \\mask{0.00}{\\shortminus 0.02} & \\mask{0.00}{2.57} & \\mask{0.00}{2.57} \\\\ \\mask{0.00}{0.02} & \\mask{0.00}{0.39} & \\mask{0.00}{0.39} \\end{matrix}$} \n",
      "\\\\[12pt]\n",
      "$[\\mask{0.0}{0.8},\\mask{0.0}{0.2}]$ \n",
      "& \\scalebox{0.8}{$\\begin{matrix} \\mask{0.00}{0.02} & \\mask{0.00}{0.74} & \\mask{0.00}{0.74} \\\\ \\mask{0.00}{0.04} & \\mask{0.00}{0.48} & \\mask{0.00}{0.48} \\end{matrix}$} \n",
      "& \\scalebox{0.8}{$\\begin{matrix} \\mask{0.00}{0.09} & \\mask{0.00}{4.02} & \\mask{0.00}{4.02} \\\\ \\mask{0.00}{0.01} & \\mask{0.00}{0.49} & \\mask{0.00}{0.49} \\end{matrix}$} \n",
      "& \\scalebox{0.8}{$\\begin{matrix} \\mask{0.00}{0.06} & \\mask{0.00}{1.8} & \\mask{0.00}{1.8} \\\\ \\mask{0.00}{0.03} & \\mask{0.00}{0.34} & \\mask{0.00}{0.35} \\end{matrix}$} \n",
      "& \\scalebox{0.8}{$\\begin{matrix} \\mask{0.00}{0.08} & \\mask{0.00}{3.57} & \\mask{0.00}{3.57} \\\\ \\mask{0.00}{0.02} & \\mask{0.00}{0.44} & \\mask{0.00}{0.44} \\end{matrix}$} \n",
      "& \\scalebox{0.8}{$\\begin{matrix} \\mask{0.00}{0.04} & \\mask{0.00}{0.63} & \\mask{0.00}{0.63} \\\\ \\mask{0.00}{0.03} & \\mask{0.00}{0.4} & \\mask{0.00}{0.4} \\end{matrix}$} \n",
      "\\\\[12pt]\n"
     ]
    }
   ],
   "source": [
    "for (i, π_b) in enumerate(πs):\n",
    "    print(\"\"\"$[\\mask{{0.0}}{{{}}},\\mask{{0.0}}{{{}}}]$ \"\"\".format(π_b[0,0], π_b[0,1]))\n",
    "    for (j, π_e) in enumerate(πs):\n",
    "        ix = i*len(πs)+j\n",
    "        values = df_out_all_2[ix].iloc[[2,4], [2,3,4]].round(2).values\n",
    "        print(\"\"\"& \\\\scalebox{0.8}{$\\\\begin{matrix} \"\"\"\n",
    "              + \"\"\"\\mask{{0.00}}{{{}}} & \\mask{{0.00}}{{{}}} & \\mask{{0.00}}{{{}}} \\\\\\\\ \\mask{{0.00}}{{{}}} & \\mask{{0.00}}{{{}}} & \\mask{{0.00}}{{{}}}\"\"\".format(\n",
    "                  *[int(x) if x.is_integer() else x for x in list(values.ravel())]).replace('-', '\\\\shortminus ')\n",
    "              + \"\"\" \\end{matrix}$} \"\"\")\n",
    "    print(\"\"\"\\\\\\\\[12pt]\"\"\")"
   ]
  },
  {
   "cell_type": "code",
   "execution_count": null,
   "id": "e0fa9eb3-bec0-4429-96ae-075c203d883f",
   "metadata": {},
   "outputs": [],
   "source": []
  }
 ],
 "metadata": {
  "kernelspec": {
   "display_name": "RL_venv",
   "language": "python",
   "name": "rl_venv"
  },
  "language_info": {
   "codemirror_mode": {
    "name": "ipython",
    "version": 3
   },
   "file_extension": ".py",
   "mimetype": "text/x-python",
   "name": "python",
   "nbconvert_exporter": "python",
   "pygments_lexer": "ipython3",
   "version": "3.8.8"
  }
 },
 "nbformat": 4,
 "nbformat_minor": 5
}
