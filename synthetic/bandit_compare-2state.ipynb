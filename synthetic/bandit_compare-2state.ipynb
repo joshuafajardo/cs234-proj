{
 "cells": [
  {
   "cell_type": "code",
   "execution_count": null,
   "id": "a6eac7c9-b2bb-4995-bf22-a9d66093f9d6",
   "metadata": {},
   "outputs": [],
   "source": [
    "import numpy as np\n",
    "import pandas as pd\n",
    "from IPython.display import display\n",
    "import matplotlib.pyplot as plt\n",
    "%config InlineBackend.figure_formats = ['svg']\n",
    "import matplotlib\n",
    "matplotlib.rcParams['text.usetex'] = True\n",
    "matplotlib.rcParams['font.sans-serif'] = ['FreeSans']\n",
    "import seaborn as sns\n",
    "import itertools\n",
    "from tqdm import tqdm\n",
    "import joblib"
   ]
  },
  {
   "cell_type": "code",
   "execution_count": null,
   "id": "16192b2c-09d3-49b7-98d1-edc8c5bbbd22",
   "metadata": {},
   "outputs": [],
   "source": [
    "# JF: Distribution of starting states\n",
    "d0 = np.array([0.5, 0.5])"
   ]
  },
  {
   "cell_type": "code",
   "execution_count": null,
   "id": "3b17c719-1120-434f-9785-e5d3583909e4",
   "metadata": {},
   "outputs": [],
   "source": [
    "# JF: Mean rewards and std deviations for 3 different scenarios\n",
    "Rs = [\n",
    "    np.array([[1., 2.], [0., 0.]]),\n",
    "    np.array([[-1., 1.], [0., 0.]]),\n",
    "    np.array([[-1., -2.], [0., 0.]]),\n",
    "]\n",
    "sigmas = [\n",
    "    np.array([[0.5, 0.5], [0.5, 0.5]]),\n",
    "    np.array([[0.5, 0.5], [0.5, 0.5]]),\n",
    "    np.array([[0.5, 0.5], [0.5, 0.5]]),\n",
    "]"
   ]
  },
  {
   "cell_type": "code",
   "execution_count": null,
   "id": "a2617940-a7a0-4de0-b96c-0c4d87b4365c",
   "metadata": {},
   "outputs": [],
   "source": [
    "# JF: Policies. The authors seem to take the cartesian product of these policies in order to generate\n",
    "#     (behavior_policy, evaluation_policy) pairs.\n",
    "πs = [\n",
    "    np.array([[1., 0.], [1., 0.]]),\n",
    "    np.array([[0., 1.], [1., 0.]]),\n",
    "    np.array([[0.5, 0.5], [1., 0.]]),\n",
    "    np.array([[0.1, 0.9], [1., 0.]]),\n",
    "    np.array([[0.8, 0.2], [1., 0.]]),\n",
    "]"
   ]
  },
  {
   "cell_type": "code",
   "execution_count": null,
   "id": "3b57307b-c5c4-4b26-be34-5e8d13a2ea20",
   "metadata": {},
   "outputs": [],
   "source": [
    "use_πD = False"
   ]
  },
  {
   "cell_type": "code",
   "execution_count": null,
   "id": "815dabf9-cdff-4d7a-bac4-889d6b046442",
   "metadata": {},
   "outputs": [],
   "source": [
    "N = 1\n",
    "runs = 1000"
   ]
  },
  {
   "cell_type": "code",
   "execution_count": null,
   "id": "a82feb16-b247-409b-b556-21e1bab36602",
   "metadata": {},
   "outputs": [],
   "source": [
    "def single_exp_setting(π_b, π_e):\n",
    "    np.random.seed(42)\n",
    "\n",
    "    # True value of π_e\n",
    "    Js = []\n",
    "    for seed in range(runs):\n",
    "        rng = np.random.default_rng(seed=10+seed)\n",
    "        x = rng.choice(len(d0), size=N, p=d0)\n",
    "        a = np.array([rng.choice(2, p=π_e[xi]) for xi in x])\n",
    "        r = np.array([rng.normal(R[xi,ai], sigma[xi,ai]) for xi,ai in zip(x,a)])\n",
    "        J = np.sum(r) / N\n",
    "        Js.append(J)\n",
    "\n",
    "    # Standard IS\n",
    "    Gs = []\n",
    "    OISs = []\n",
    "    WISs = []\n",
    "    for seed in range(runs):\n",
    "        rng = np.random.default_rng(seed=10+seed)\n",
    "        x = rng.choice(len(d0), size=N, p=d0)\n",
    "        a = np.array([rng.choice(2, p=π_b[xi]) for xi in x])\n",
    "        r = np.array([rng.normal(R[xi,ai], sigma[xi,ai]) for xi,ai in zip(x,a)])\n",
    "        G = np.sum(r) / N\n",
    "        Gs.append(G)\n",
    "\n",
    "        if use_πD:\n",
    "            assert False\n",
    "        else:\n",
    "            π_b_ = π_b\n",
    "\n",
    "        rho = π_e[x,a] / π_b_[x,a]\n",
    "        OISs.append(np.sum(rho * r) / N)\n",
    "        WISs.append(np.sum(rho * r) / np.sum(rho))\n",
    "\n",
    "    \n",
    "    # Collect data using π_b - naive approach\n",
    "    Naive_OISs = []\n",
    "    for seed in range(runs):\n",
    "        rng = np.random.default_rng(seed=10+seed)\n",
    "        rng_c = np.random.default_rng(seed=100000+seed)\n",
    "        x = rng.choice(len(d0), size=N, p=d0)\n",
    "        a = np.array([rng.choice(2, p=π_b[xi]) for xi in x])\n",
    "        r = np.array([rng.normal(R[xi,ai], sigma[xi,ai]) for xi,ai in zip(x,a)])\n",
    "        rho = π_e[x,a] / π_b[x,a]\n",
    "\n",
    "        # counterfactual flag\n",
    "        c = np.array([rng_c.choice(2, p=[1-Pc[xi,ai], Pc[xi,ai]]) for xi,ai in zip(x,a)])\n",
    "\n",
    "        # counterfactual reward\n",
    "        rc = np.array([rng_c.normal(R[xi,1-ai], sigma[xi,1-ai]) for xi,ai in zip(x,a)])\n",
    "        rc[c==0] = np.nan\n",
    "\n",
    "        # trajectory-wise weight\n",
    "        w = np.ones(N)\n",
    "        w[c==1] = ww_naive[x[c==1], a[c==1], a[c==1]]\n",
    "        wc = np.zeros(N)\n",
    "        wc[c==1] = ww_naive[x[c==1], a[c==1], 1-a[c==1]]\n",
    "\n",
    "        if use_πD:\n",
    "            # augmented behavior policy\n",
    "            assert False\n",
    "        else:\n",
    "            # augmented behavior policy\n",
    "            π_b_ = np.array([\n",
    "                [π_b[0,0]*ww_naive[0,0,0]+π_b[0,1]*ww_naive[0,1,0], π_b[0,0]*ww_naive[0,0,1]+π_b[0,1]*ww_naive[0,1,1]],\n",
    "                [π_b[1,0]*ww_naive[1,0,0]+π_b[1,1]*ww_naive[1,1,0], π_b[1,0]*ww_naive[1,0,1]+π_b[1,1]*ww_naive[1,1,1]],\n",
    "            ])\n",
    "            π_b_ = π_b_ / π_b_.sum(axis=1, keepdims=True)\n",
    "\n",
    "        # Naive_WISs.append(\n",
    "        #     (np.sum(w* π_e[x,a] / π_b_[x,a] * r) + np.nansum(wc* π_e[x,1-a] / π_b_[x,1-a] * rc)) / (np.sum(w* π_e[x,a] / π_b_[x,a]) + np.sum((wc* π_e[x,1-a] / π_b_[x,1-a])[c==1]))\n",
    "        # )\n",
    "        ## Add factual and counterfactual separately\n",
    "        Naive_OISs.append(np.sum(π_e[x,a] / π_b_[x,a] * r) / N)\n",
    "        if np.sum(c) > 0:\n",
    "            Naive_OISs.append(np.sum(π_e[x,1-a] / π_b_[x,1-a] * rc) / np.sum(c))\n",
    "\n",
    "\n",
    "    # Collect data using π_b - combining counterfactuals with factuals\n",
    "    FC_OISs_w = []\n",
    "    FC_WISs_w = []\n",
    "    for seed in range(runs):\n",
    "        rng = np.random.default_rng(seed=10+seed)\n",
    "        rng_c = np.random.default_rng(seed=100000+seed)\n",
    "        x = rng.choice(len(d0), size=N, p=d0)\n",
    "        a = np.array([rng.choice(2, p=π_b[xi]) for xi in x])\n",
    "        r = np.array([rng.normal(R[xi,ai], sigma[xi,ai]) for xi,ai in zip(x,a)])\n",
    "        rho = π_e[x,a] / π_b[x,a]\n",
    "\n",
    "        # counterfactual flag\n",
    "        c = np.array([rng_c.choice(2, p=[1-Pc[xi,ai], Pc[xi,ai]]) for xi,ai in zip(x,a)])\n",
    "\n",
    "        # counterfactual reward\n",
    "        rc = np.array([rng_c.normal(R[xi,1-ai], sigma[xi,1-ai]) for xi,ai in zip(x,a)])\n",
    "        rc[c==0] = np.nan\n",
    "\n",
    "        # trajectory-wise weight\n",
    "        w = np.ones(N)\n",
    "        w[c==1] = ww[x[c==1], a[c==1], a[c==1]]\n",
    "        wc = np.zeros(N)\n",
    "        wc[c==1] = ww[x[c==1], a[c==1], 1-a[c==1]]\n",
    "\n",
    "        if use_πD:\n",
    "            # augmented behavior policy\n",
    "            assert False\n",
    "        else:\n",
    "            # augmented behavior policy\n",
    "            π_b_ = np.array([\n",
    "                [π_b[0,0]*ww[0,0,0]+π_b[0,1]*ww[0,1,0], π_b[0,0]*ww[0,0,1]+π_b[0,1]*ww[0,1,1]],\n",
    "                [π_b[1,0]*ww[1,0,0]+π_b[1,1]*ww[1,1,0], π_b[1,0]*ww[1,0,1]+π_b[1,1]*ww[1,1,1]],\n",
    "            ])\n",
    "            π_b_ = π_b_ / π_b_.sum(axis=1, keepdims=True)\n",
    "\n",
    "        FC_OISs_w.append(\n",
    "            (np.sum(w* π_e[x,a] / π_b_[x,a] * r) + np.nansum(wc* π_e[x,1-a] / π_b_[x,1-a] * rc)) / (N)\n",
    "        )\n",
    "        FC_WISs_w.append(\n",
    "            (np.sum(w* π_e[x,a] / π_b_[x,a] * r) + np.nansum(wc* π_e[x,1-a] / π_b_[x,1-a] * rc)) / (np.sum(w* π_e[x,a] / π_b_[x,a]) + np.sum((wc* π_e[x,1-a] / π_b_[x,1-a])[c==1])),\n",
    "        )\n",
    "\n",
    "    df_bias_var = []\n",
    "    for name, values in [\n",
    "        ('$\\hat{v}(\\pi_e)$', Js),\n",
    "        ('$\\hat{v}(\\pi_b)$', Gs),\n",
    "        ('OIS', OISs),\n",
    "        ('WIS', WISs),\n",
    "        ('C-OIS', FC_OISs_w),\n",
    "        ('C-WIS', FC_WISs_w),\n",
    "        ('Naive-OIS', Naive_OISs),\n",
    "    ]:\n",
    "        df_bias_var.append([name, \n",
    "                            np.mean(values), \n",
    "                            np.mean(values - d0@np.sum(π_e*R, axis=1)), \n",
    "                            np.sqrt(np.var(values)), \n",
    "                            np.sqrt(np.mean(np.square(values - d0@np.sum(π_e*R, axis=1))))])\n",
    "    return pd.DataFrame(df_bias_var, columns=['Approach', 'Mean', 'Bias', 'Std', 'RMSE'])"
   ]
  },
  {
   "cell_type": "markdown",
   "id": "3fdea8d1-8479-4592-b2ae-4a65c032daf5",
   "metadata": {},
   "source": [
    "# Ideal counterfactual annotations, equal weights"
   ]
  },
  {
   "cell_type": "code",
   "execution_count": null,
   "id": "0ee15c3b-0180-447d-b9ac-29d91b1e8c2a",
   "metadata": {},
   "outputs": [],
   "source": [
    "# Counterfactual-augmented IS\n",
    "## probability of getting a counterfactual annotation\n",
    "# JF: Looks like this would be indexed as Pc[state][action].\n",
    "Pc = np.array([\n",
    "    [1., 1.],\n",
    "    [0., 0.],\n",
    "])\n",
    "## Weights assigned to factual and counterfactuals\n",
    "ww = np.array([\n",
    "    [[0.5, 0.5], [0.5, 0.5]],\n",
    "    [[1, 0], [0, 1]],\n",
    "])\n",
    "\n",
    "ww_naive = np.array([\n",
    "    [[1, 1], [1, 1]],\n",
    "    [[1, 0], [0, 1]],\n",
    "])"
   ]
  },
  {
   "cell_type": "markdown",
   "id": "72d31031-7e17-4dfc-b762-7d8d36429480",
   "metadata": {},
   "source": [
    "## Rs[0] setting"
   ]
  },
  {
   "cell_type": "code",
   "execution_count": null,
   "id": "b03a8eda-aadd-4387-89e6-09e4d58d9e8f",
   "metadata": {},
   "outputs": [],
   "source": [
    "# JF: Positive rewards for both actions in state 1.\n",
    "R, sigma = Rs[0], sigmas[0]"
   ]
  },
  {
   "cell_type": "code",
   "execution_count": null,
   "id": "e1d34e0a-5206-4e5d-ae9c-f56886346f72",
   "metadata": {},
   "outputs": [],
   "source": [
    "df_out_all_0 = []\n",
    "for π_b, π_e in tqdm(list(itertools.product(πs, πs))):\n",
    "    df_out = single_exp_setting(π_b, π_e)\n",
    "    df_out_all_0.append(df_out)"
   ]
  },
  {
   "cell_type": "code",
   "execution_count": null,
   "id": "04e99347-6451-4aa6-b7df-407f0907bf37",
   "metadata": {},
   "outputs": [],
   "source": [
    "df_tmp = pd.DataFrame(index=[str(π)[1:-1] for π in πs], columns=[str(π)[1:-1] for π in πs])\n",
    "df_tmp.index.name = 'π_b'\n",
    "df_tmp.columns.name = 'π_e'\n",
    "for (i, π_b), (j, π_e) in itertools.product(enumerate(πs), enumerate(πs)):\n",
    "    ix = i*len(πs)+j\n",
    "    df_tmp.iloc[i,j] = str(df_out_all_0[ix].iloc[[2,6,4], [2,3,4]].round(1).values)[1:-1]\n",
    "display(df_tmp.style.set_properties(**{'white-space': 'pre-wrap'}))"
   ]
  },
  {
   "cell_type": "code",
   "execution_count": null,
   "id": "46a3ac26-2b7d-4385-a9cb-eb96f3ad1115",
   "metadata": {
    "tags": []
   },
   "outputs": [],
   "source": [
    "# JF: Used for generating LaTeX\n",
    "for (i, π_b) in enumerate(πs):\n",
    "    print(\"\"\"$[\\mask{{0.0}}{{{}}},\\mask{{0.0}}{{{}}}]$ \"\"\".format(π_b[0,0], π_b[0,1]))\n",
    "    for (j, π_e) in enumerate(πs):\n",
    "        ix = i*len(πs)+j\n",
    "        values = df_out_all_0[ix].iloc[[2,6,4], [2,3,4]].round(2).values\n",
    "        print(\"\"\"& \\\\scalebox{0.8}{$\\\\begin{matrix} \"\"\"\n",
    "              + \"\"\"\\mask{{0.00}}{{{}}} & \\mask{{0.00}}{{{}}} & \\mask{{0.00}}{{{}}} \\\\\\\\ \\mask{{0.00}}{{{}}} & \\mask{{0.00}}{{{}}} & \\mask{{0.00}}{{{}}} \\\\\\\\ \\mask{{0.00}}{{{}}} & \\mask{{0.00}}{{{}}} & \\mask{{0.00}}{{{}}}\"\"\".format(*list(values.ravel())).replace('-', '\\\\shortminus ')\n",
    "              + \"\"\" \\end{matrix}$} \"\"\")\n",
    "    print(\"\"\"\\\\\\\\[12pt]\"\"\")"
   ]
  },
  {
   "cell_type": "code",
   "execution_count": null,
   "id": "27e8abe2-b622-4f5a-9a42-7690c0ea3372",
   "metadata": {
    "tags": []
   },
   "outputs": [],
   "source": [
    "# JF: Used for generating LaTeX\n",
    "for (i, π_b) in enumerate(πs):\n",
    "    print(\"\"\"$[\\mask{{0.0}}{{{}}},\\mask{{0.0}}{{{}}}]$ \"\"\".format(π_b[0,0], π_b[0,1]))\n",
    "    for (j, π_e) in enumerate(πs):\n",
    "        ix = i*len(πs)+j\n",
    "        values = df_out_all_0[ix].iloc[[2,6,4], [2,3,4]].round(1).values\n",
    "        print(\"\"\"& \\\\scalebox{0.8}{$\\\\begin{matrix} \"\"\"\n",
    "              + \"\"\"\\mask{{0.00}}{{{}}} & \\mask{{0.00}}{{{}}} & \\mask{{0.00}}{{{}}} \\\\\\\\ \\mask{{0.00}}{{{}}} & \\mask{{0.00}}{{{}}} & \\mask{{0.00}}{{{}}} \\\\\\\\ \\mask{{0.00}}{{{}}} & \\mask{{0.00}}{{{}}} & \\mask{{0.00}}{{{}}}\"\"\".format(\n",
    "                  *[int(x) if x.is_integer() else x for x in list(values.ravel())]).replace('-', '\\\\shortminus ')\n",
    "              + \"\"\" \\end{matrix}$} \"\"\")\n",
    "    print(\"\"\"\\\\\\\\[12pt]\"\"\")"
   ]
  },
  {
   "cell_type": "markdown",
   "id": "c2bcac69-d99d-4ba8-9029-65458f7efe6e",
   "metadata": {},
   "source": [
    "## Rs[1] setting"
   ]
  },
  {
   "cell_type": "code",
   "execution_count": null,
   "id": "6444e6eb-2fe8-4386-b418-6e984b474356",
   "metadata": {},
   "outputs": [],
   "source": [
    "# JF: Only (s1, a2) has positive reward. (s1, a1) has negative reward.\n",
    "R, sigma = Rs[1], sigmas[1]"
   ]
  },
  {
   "cell_type": "code",
   "execution_count": null,
   "id": "879f3f69-e16d-42e0-a8c8-d33f99e6e6a4",
   "metadata": {},
   "outputs": [],
   "source": [
    "df_out_all_1 = []\n",
    "for π_b, π_e in tqdm(list(itertools.product(πs, πs))):\n",
    "    df_out = single_exp_setting(π_b, π_e)\n",
    "    df_out_all_1.append(df_out)"
   ]
  },
  {
   "cell_type": "code",
   "execution_count": null,
   "id": "3644f5a4-d3be-4c44-bdee-92f5728b6c6e",
   "metadata": {},
   "outputs": [],
   "source": [
    "df_tmp = pd.DataFrame(index=[str(π)[1:-1] for π in πs], columns=[str(π)[1:-1] for π in πs])\n",
    "df_tmp.index.name = 'π_b'\n",
    "df_tmp.columns.name = 'π_e'\n",
    "for (i, π_b), (j, π_e) in itertools.product(enumerate(πs), enumerate(πs)):\n",
    "    ix = i*len(πs)+j\n",
    "    df_tmp.iloc[i,j] = str(df_out_all_1[ix].iloc[[2,6,4], [2,3,4]].round(1).values)[1:-1]\n",
    "display(df_tmp.style.set_properties(**{'white-space': 'pre-wrap'}))"
   ]
  },
  {
   "cell_type": "code",
   "execution_count": null,
   "id": "9e7abac0-37db-4c9c-ad22-51e24a4a669c",
   "metadata": {
    "tags": []
   },
   "outputs": [],
   "source": [
    "for (i, π_b) in enumerate(πs):\n",
    "    print(\"\"\"$[\\mask{{0.0}}{{{}}},\\mask{{0.0}}{{{}}}]$ \"\"\".format(π_b[0,0], π_b[0,1]))\n",
    "    for (j, π_e) in enumerate(πs):\n",
    "        ix = i*len(πs)+j\n",
    "        values = df_out_all_1[ix].iloc[[2,6,4], [2,3,4]].round(2).values\n",
    "        print(\"\"\"& \\\\scalebox{0.8}{$\\\\begin{matrix} \"\"\"\n",
    "              + \"\"\"\\mask{{0.00}}{{{}}} & \\mask{{0.00}}{{{}}} & \\mask{{0.00}}{{{}}} \\\\\\\\ \\mask{{0.00}}{{{}}} & \\mask{{0.00}}{{{}}} & \\mask{{0.00}}{{{}}} \\\\\\\\ \\mask{{0.00}}{{{}}} & \\mask{{0.00}}{{{}}} & \\mask{{0.00}}{{{}}}\"\"\".format(*list(values.ravel())).replace('-', '\\\\shortminus ')\n",
    "              + \"\"\" \\end{matrix}$} \"\"\")\n",
    "    print(\"\"\"\\\\\\\\[12pt]\"\"\")"
   ]
  },
  {
   "cell_type": "code",
   "execution_count": null,
   "id": "f608f470-d130-4270-96bc-9c96912985d5",
   "metadata": {},
   "outputs": [],
   "source": [
    "for (i, π_b) in enumerate(πs):\n",
    "    print(\"\"\"$[\\mask{{0.0}}{{{}}},\\mask{{0.0}}{{{}}}]$ \"\"\".format(π_b[0,0], π_b[0,1]))\n",
    "    for (j, π_e) in enumerate(πs):\n",
    "        ix = i*len(πs)+j\n",
    "        values = df_out_all_1[ix].iloc[[2,6,4], [2,3,4]].round(1).values\n",
    "        print(\"\"\"& \\\\scalebox{0.8}{$\\\\begin{matrix} \"\"\"\n",
    "              + \"\"\"\\mask{{0.00}}{{{}}} & \\mask{{0.00}}{{{}}} & \\mask{{0.00}}{{{}}} \\\\\\\\ \\mask{{0.00}}{{{}}} & \\mask{{0.00}}{{{}}} & \\mask{{0.00}}{{{}}} \\\\\\\\ \\mask{{0.00}}{{{}}} & \\mask{{0.00}}{{{}}} & \\mask{{0.00}}{{{}}}\"\"\".format(\n",
    "                  *[int(x) if x.is_integer() else x for x in list(values.ravel())]).replace('-', '\\\\shortminus ')\n",
    "              + \"\"\" \\end{matrix}$} \"\"\")\n",
    "    print(\"\"\"\\\\\\\\[12pt]\"\"\")"
   ]
  },
  {
   "cell_type": "markdown",
   "id": "bb78016d-f909-4262-bec6-1b701cb3413b",
   "metadata": {},
   "source": [
    "## Rs[2] setting"
   ]
  },
  {
   "cell_type": "code",
   "execution_count": null,
   "id": "01ef0086-6dec-44a7-bd8f-9cdea919ca1e",
   "metadata": {},
   "outputs": [],
   "source": [
    "# JF: Both rewards are negative\n",
    "R, sigma = Rs[2], sigmas[2]"
   ]
  },
  {
   "cell_type": "code",
   "execution_count": null,
   "id": "359a1e3d-aa69-445e-9041-5072ed3b7cfe",
   "metadata": {},
   "outputs": [],
   "source": [
    "df_out_all_2 = []\n",
    "for π_b, π_e in tqdm(list(itertools.product(πs, πs))):\n",
    "    df_out = single_exp_setting(π_b, π_e)\n",
    "    df_out_all_2.append(df_out)"
   ]
  },
  {
   "cell_type": "code",
   "execution_count": null,
   "id": "9549c5a2-e84d-4a5d-b497-4bb85df4fff1",
   "metadata": {},
   "outputs": [],
   "source": [
    "df_tmp = pd.DataFrame(index=[str(π)[1:-1] for π in πs], columns=[str(π)[1:-1] for π in πs])\n",
    "df_tmp.index.name = 'π_b'\n",
    "df_tmp.columns.name = 'π_e'\n",
    "for (i, π_b), (j, π_e) in itertools.product(enumerate(πs), enumerate(πs)):\n",
    "    ix = i*len(πs)+j\n",
    "    df_tmp.iloc[i,j] = str(df_out_all_2[ix].iloc[[2,6,4], [2,3,4]].round(1).values)[1:-1]\n",
    "display(df_tmp.style.set_properties(**{'white-space': 'pre-wrap'}))"
   ]
  },
  {
   "cell_type": "code",
   "execution_count": null,
   "id": "d582afa1-895c-4b1f-afdc-4f962ec47031",
   "metadata": {
    "tags": []
   },
   "outputs": [],
   "source": [
    "for (i, π_b) in enumerate(πs):\n",
    "    print(\"\"\"$[\\mask{{0.0}}{{{}}},\\mask{{0.0}}{{{}}}]$ \"\"\".format(π_b[0,0], π_b[0,1]))\n",
    "    for (j, π_e) in enumerate(πs):\n",
    "        ix = i*len(πs)+j\n",
    "        values = df_out_all_2[ix].iloc[[2,6,4], [2,3,4]].round(2).values\n",
    "        print(\"\"\"& \\\\scalebox{0.8}{$\\\\begin{matrix} \"\"\"\n",
    "              + \"\"\"\\mask{{0.00}}{{{}}} & \\mask{{0.00}}{{{}}} & \\mask{{0.00}}{{{}}} \\\\\\\\ \\mask{{0.00}}{{{}}} & \\mask{{0.00}}{{{}}} & \\mask{{0.00}}{{{}}} \\\\\\\\ \\mask{{0.00}}{{{}}} & \\mask{{0.00}}{{{}}} & \\mask{{0.00}}{{{}}}\"\"\".format(*list(values.ravel())).replace('-', '\\\\shortminus ')\n",
    "              + \"\"\" \\end{matrix}$} \"\"\")\n",
    "    print(\"\"\"\\\\\\\\[12pt]\"\"\")"
   ]
  },
  {
   "cell_type": "code",
   "execution_count": null,
   "id": "c135e809-4f3a-4c72-a77e-40fe7ac04209",
   "metadata": {},
   "outputs": [],
   "source": [
    "for (i, π_b) in enumerate(πs):\n",
    "    print(\"\"\"$[\\mask{{0.0}}{{{}}},\\mask{{0.0}}{{{}}}]$ \"\"\".format(π_b[0,0], π_b[0,1]))\n",
    "    for (j, π_e) in enumerate(πs):\n",
    "        ix = i*len(πs)+j\n",
    "        values = df_out_all_2[ix].iloc[[2,6,4], [2,3,4]].round(1).values\n",
    "        print(\"\"\"& \\\\scalebox{0.8}{$\\\\begin{matrix} \"\"\"\n",
    "              + \"\"\"\\mask{{0.00}}{{{}}} & \\mask{{0.00}}{{{}}} & \\mask{{0.00}}{{{}}} \\\\\\\\ \\mask{{0.00}}{{{}}} & \\mask{{0.00}}{{{}}} & \\mask{{0.00}}{{{}}} \\\\\\\\ \\mask{{0.00}}{{{}}} & \\mask{{0.00}}{{{}}} & \\mask{{0.00}}{{{}}}\"\"\".format(\n",
    "                  *[int(x) if x.is_integer() else x for x in list(values.ravel())]).replace('-', '\\\\shortminus ')\n",
    "              + \"\"\" \\end{matrix}$} \"\"\")\n",
    "    print(\"\"\"\\\\\\\\[12pt]\"\"\")"
   ]
  },
  {
   "cell_type": "code",
   "execution_count": null,
   "id": "e0fa9eb3-bec0-4429-96ae-075c203d883f",
   "metadata": {},
   "outputs": [],
   "source": []
  }
 ],
 "metadata": {
  "kernelspec": {
   "display_name": "Python 3 (ipykernel)",
   "language": "python",
   "name": "python3"
  },
  "language_info": {
   "codemirror_mode": {
    "name": "ipython",
    "version": 3
   },
   "file_extension": ".py",
   "mimetype": "text/x-python",
   "name": "python",
   "nbconvert_exporter": "python",
   "pygments_lexer": "ipython3",
   "version": "3.11.5"
  }
 },
 "nbformat": 4,
 "nbformat_minor": 5
}
